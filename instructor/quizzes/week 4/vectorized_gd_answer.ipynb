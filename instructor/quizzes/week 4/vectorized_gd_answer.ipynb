{
 "cells": [
  {
   "cell_type": "raw",
   "id": "9e9db649-95e2-42f6-a2e8-c3c3804aff9d",
   "metadata": {},
   "source": [
    "---\n",
    "title: \"Quiz 3 Solution\"\n",
    "format:\n",
    "  html:\n",
    "    toc: true\n",
    "    toc-title: Contents\n",
    "    toc-depth: 4\n",
    "    code-fold: show\n",
    "    self-contained: true\n",
    "jupyter: python3\n",
    "---"
   ]
  },
  {
   "cell_type": "code",
   "execution_count": 1,
   "id": "393fb92e-6a73-44b8-97c2-4ee7aa19345a",
   "metadata": {},
   "outputs": [],
   "source": [
    "import numpy as np\n",
    "import matplotlib.pyplot as plt\n",
    "import pandas as pd\n",
    "import copy, math\n",
    "from sklearn.linear_model import LinearRegression, SGDRegressor\n",
    "from sklearn.preprocessing import StandardScaler"
   ]
  },
  {
   "cell_type": "markdown",
   "id": "78a0ab65",
   "metadata": {},
   "source": [
    "### Task 1: Implement `compute_cost_matrix` function to calculate the total cost"
   ]
  },
  {
   "cell_type": "code",
   "execution_count": 2,
   "id": "5eef2289",
   "metadata": {},
   "outputs": [],
   "source": [
    "#Function to calculate the cost\n",
    "def compute_cost_matrix(X, y, w):\n",
    "    \"\"\"\n",
    "    Computes the gradient for linear regression\n",
    "     Args:\n",
    "      X (ndarray (m,n+1)): Data, m examples with n features\n",
    "      y (ndarray (m,)) : target values\n",
    "      w (ndarray (n+1,)) : model parameters  \n",
    "    Returns\n",
    "      cost: (scalar)\n",
    "    \"\"\"\n",
    "    # use vectorization to implement the cost for linear regression\n",
    "    m = X.shape[0]  # m = len(y)\n",
    "\n",
    "    # calculate f_wb for all examples.\n",
    "    f_wb = X @ w\n",
    "    # calculate cost\n",
    "    cost = (1/(2*m)) * np.sum((f_wb-y)**2)\n",
    "    return cost\n",
    "\n"
   ]
  },
  {
   "cell_type": "markdown",
   "id": "b016b464",
   "metadata": {},
   "source": [
    "### Task 2: Implement `compute_gradient_matrix` function to calculate the gradient"
   ]
  },
  {
   "cell_type": "code",
   "execution_count": 3,
   "id": "caeb61c5",
   "metadata": {},
   "outputs": [],
   "source": [
    "def compute_gradient_matrix(X, y, w):\n",
    "    \"\"\"\n",
    "    Computes the gradient for linear regression\n",
    "\n",
    "    Args:\n",
    "      X (ndarray (m,n+1)): Data, m examples with n features\n",
    "      y (ndarray (m,)) : target values\n",
    "      w (ndarray (n+1,)) : model parameters  \n",
    "    Returns\n",
    "      dj_dw (ndarray (n+1,1)): The gradient of the cost w.r.t. the parameters w.\n",
    "    \"\"\"\n",
    "    # use vectorization to implement the gradient for linear regression\n",
    "    m = len(y)\n",
    "    f_wb = X @ w\n",
    "    # f_wb = np.dot(X, w)\n",
    "    e   = f_wb - y\n",
    "    dj_dw  = (1/m) * (X.T @ e)\n",
    "\n",
    "    return dj_dw"
   ]
  },
  {
   "cell_type": "markdown",
   "id": "14eb5aa7",
   "metadata": {},
   "source": [
    "### Task 3: Implement `gradient_descent_matrix` function below"
   ]
  },
  {
   "cell_type": "code",
   "execution_count": 4,
   "id": "473c94db",
   "metadata": {},
   "outputs": [],
   "source": [
    "def gradient_descent_matrix(X, y, w_in, alpha, num_iters): \n",
    "    \"\"\"\n",
    "    Performs batch gradient descent to learn w. Updates w by taking \n",
    "    num_iters gradient steps with learning rate alpha\n",
    "    \n",
    "    Args:\n",
    "      X (ndarray (m,n+1))   : Data, m examples with n features\n",
    "      y (ndarray (m,))    : target values\n",
    "      w_in (ndarray (n+1,)) : initial model parameters  \n",
    "      alpha (float)       : Learning rate\n",
    "      num_iters (int)     : number of iterations to run gradient descent\n",
    "      \n",
    "    Returns:\n",
    "      w (ndarray (n+1,)) : Updated values of parameters\n",
    "      J_history           : Cost of the model after each iteration\n",
    "      \"\"\"\n",
    "    \n",
    "    # implement the batch gradient descent algorithm using the compute_gradient and compute_cost functions\n",
    "    w = copy.deepcopy(w_in)\n",
    "    J_history = []\n",
    "    for i in range(num_iters):\n",
    "        w = w - alpha * compute_gradient_matrix(X, y, w)\n",
    "        J_history.append(compute_cost_matrix_b(X, y, w))\n",
    "\n",
    "        # print cost every 100 iterations\n",
    "        if i % 100 == 0:\n",
    "            print(\"Iteration: \", i, \" Cost: \", J_history[i])\n",
    "    return w, J_history"
   ]
  },
  {
   "cell_type": "markdown",
   "id": "90a7b9b7",
   "metadata": {},
   "source": [
    "### Task 4: Check your implementation on the house dataset"
   ]
  },
  {
   "cell_type": "code",
   "execution_count": 5,
   "id": "f7276658",
   "metadata": {},
   "outputs": [],
   "source": [
    "# load the dataset\n",
    "data = np.loadtxt(\"data/houses.txt\", delimiter=',')\n",
    "X_train, y_train = data[:,:-1], data[:,-1]\n",
    "X_features = ['size(sqft)','bedrooms','floors','age']"
   ]
  },
  {
   "cell_type": "code",
   "execution_count": 6,
   "id": "b5c34d7f",
   "metadata": {},
   "outputs": [],
   "source": [
    "# do feature scaling for the x_train\n",
    "scaler = StandardScaler()\n",
    "X_train_scaled = scaler.fit_transform(X_train)\n"
   ]
  },
  {
   "cell_type": "code",
   "execution_count": 7,
   "id": "1adf668c",
   "metadata": {},
   "outputs": [
    {
     "name": "stdout",
     "output_type": "stream",
     "text": [
      "Iteration:  0  Cost:  69584.11865729908\n",
      "Iteration:  100  Cost:  9927.786797279285\n",
      "Iteration:  200  Cost:  1875.0640535638813\n",
      "Iteration:  300  Cost:  624.791825792436\n",
      "Iteration:  400  Cost:  368.08973915189966\n",
      "Iteration:  500  Cost:  287.9827726348621\n",
      "Iteration:  600  Cost:  253.76612862123432\n",
      "Iteration:  700  Cost:  237.10093389171556\n",
      "Iteration:  800  Cost:  228.64869055201007\n",
      "Iteration:  900  Cost:  224.31302636299347\n",
      "w found by gradient descent: [362.22388167 107.61300784 -19.98576799 -30.96395524 -38.35125229] \n"
     ]
    }
   ],
   "source": [
    "# add a column of ones to X to account for the bias term\n",
    "X_train_scaled_1 = np.column_stack((np.ones(X_train_scaled.shape[0]), X_train_scaled))\n",
    "\n",
    "# initialize the model parameters to 0\n",
    "w = np.zeros(X_train_scaled_1.shape[1])\n",
    "\n",
    "# run the gradient descent algorithm for 10000 iterations with a learning rate of 0.01\n",
    "w, J_history = gradient_descent_matrix(X_train_scaled_1, y_train, w, 0.01, 1000)\n",
    "print(f\"w found by gradient descent: {w} \")"
   ]
  },
  {
   "cell_type": "markdown",
   "id": "77d5f12c",
   "metadata": {},
   "source": [
    "### Task 5: Plotting the cost over the iterations below"
   ]
  },
  {
   "cell_type": "code",
   "execution_count": 8,
   "id": "4c2a7765",
   "metadata": {},
   "outputs": [
    {
     "data": {
      "image/png": "[encoded data removed]",
      "text/plain": [
       "<Figure size 640x480 with 1 Axes>"
      ]
     },
     "metadata": {},
     "output_type": "display_data"
    }
   ],
   "source": [
    "# plot the cost over the iterations\n",
    "plt.plot(J_history)\n",
    "plt.xlabel('Iterations')\n",
    "plt.ylabel('Cost')\n",
    "plt.title('Cost vs Iterations')\n",
    "plt.show()\n"
   ]
  },
  {
   "cell_type": "markdown",
   "id": "47a4ee21",
   "metadata": {},
   "source": [
    "### Task 6: Using linear regression from sklearn to learn the model parameters"
   ]
  },
  {
   "cell_type": "code",
   "execution_count": 9,
   "id": "4a697131",
   "metadata": {},
   "outputs": [
    {
     "name": "stdout",
     "output_type": "stream",
     "text": [
      "Linear regression parameters: 362.23952 [110.61335173 -21.47323884 -32.66070323 -37.77938362]\n"
     ]
    }
   ],
   "source": [
    "# use linear regression from sklearn to learn the model parameters and compare them to the ones found by gradient descent\n",
    "lin_reg = LinearRegression()\n",
    "lin_reg.fit(X_train_scaled, y_train)\n",
    "print(f\"Linear regression parameters: {lin_reg.intercept_} {lin_reg.coef_}\")"
   ]
  },
  {
   "cell_type": "markdown",
   "id": "67f279f0",
   "metadata": {},
   "source": [
    "### Task 7: Using stochastic gradient descent from sklearn to learn the model parameters"
   ]
  },
  {
   "cell_type": "code",
   "execution_count": 10,
   "id": "0a58c675",
   "metadata": {},
   "outputs": [
    {
     "name": "stdout",
     "output_type": "stream",
     "text": [
      "SGD parameters: [362.25346254] [109.99247854 -21.13904325 -32.29084121 -37.92120915]\n"
     ]
    }
   ],
   "source": [
    "# use stochastic gradient descent from sklearn to learn the model parameters and compare them to the ones found by gradient descent\n",
    "sgd_reg = SGDRegressor(max_iter=1000, tol=1e-3, penalty=None, eta0=0.01)\n",
    "sgd_reg.fit(X_train_scaled, y_train)\n",
    "print(f\"SGD parameters: {sgd_reg.intercept_} {sgd_reg.coef_}\")\n"
   ]
  },
  {
   "cell_type": "markdown",
   "id": "4ba9f255",
   "metadata": {},
   "source": [
    "### Task 8: Put the model parameters from gradient descent, linear regression and SGD in a dataframe for comparision"
   ]
  },
  {
   "cell_type": "code",
   "execution_count": 11,
   "id": "ef743cfd",
   "metadata": {},
   "outputs": [
    {
     "data": {
      "text/html": [
       "<div>\n",
       "<style scoped>\n",
       "    .dataframe tbody tr th:only-of-type {\n",
       "        vertical-align: middle;\n",
       "    }\n",
       "\n",
       "    .dataframe tbody tr th {\n",
       "        vertical-align: top;\n",
       "    }\n",
       "\n",
       "    .dataframe thead th {\n",
       "        text-align: right;\n",
       "    }\n",
       "</style>\n",
       "<table border=\"1\" class=\"dataframe\">\n",
       "  <thead>\n",
       "    <tr style=\"text-align: right;\">\n",
       "      <th></th>\n",
       "      <th>Gradient Descent</th>\n",
       "      <th>Linear Regression</th>\n",
       "      <th>SGD</th>\n",
       "    </tr>\n",
       "  </thead>\n",
       "  <tbody>\n",
       "    <tr>\n",
       "      <th>b</th>\n",
       "      <td>362.223882</td>\n",
       "      <td>362.239520</td>\n",
       "      <td>362.253463</td>\n",
       "    </tr>\n",
       "    <tr>\n",
       "      <th>size(sqft)</th>\n",
       "      <td>107.613008</td>\n",
       "      <td>110.613352</td>\n",
       "      <td>109.992479</td>\n",
       "    </tr>\n",
       "    <tr>\n",
       "      <th>bedrooms</th>\n",
       "      <td>-19.985768</td>\n",
       "      <td>-21.473239</td>\n",
       "      <td>-21.139043</td>\n",
       "    </tr>\n",
       "    <tr>\n",
       "      <th>floors</th>\n",
       "      <td>-30.963955</td>\n",
       "      <td>-32.660703</td>\n",
       "      <td>-32.290841</td>\n",
       "    </tr>\n",
       "    <tr>\n",
       "      <th>age</th>\n",
       "      <td>-38.351252</td>\n",
       "      <td>-37.779384</td>\n",
       "      <td>-37.921209</td>\n",
       "    </tr>\n",
       "  </tbody>\n",
       "</table>\n",
       "</div>"
      ],
      "text/plain": [
       "            Gradient Descent  Linear Regression         SGD\n",
       "b                 362.223882         362.239520  362.253463\n",
       "size(sqft)        107.613008         110.613352  109.992479\n",
       "bedrooms          -19.985768         -21.473239  -21.139043\n",
       "floors            -30.963955         -32.660703  -32.290841\n",
       "age               -38.351252         -37.779384  -37.921209"
      ]
     },
     "execution_count": 11,
     "metadata": {},
     "output_type": "execute_result"
    }
   ],
   "source": [
    "# put the model parameters from gradient descent, linear regression and SGD in a dataframe\n",
    "model_params = {'Gradient Descent': w, 'Linear Regression': np.append(lin_reg.intercept_, lin_reg.coef_), 'SGD': np.append(sgd_reg.intercept_, sgd_reg.coef_)}\n",
    "model_params_df = pd.DataFrame(model_params, index=['b']+X_features)\n",
    "model_params_df\n"
   ]
  },
  {
   "cell_type": "code",
   "execution_count": 12,
   "id": "0194383c",
   "metadata": {},
   "outputs": [
    {
     "name": "stdout",
     "output_type": "stream",
     "text": [
      "Price of the house using gradient descent: [403.22281488]\n",
      "Price of the house using linear regression: [401.71656302]\n",
      "Price of the house using SGD: [402.09809592]\n"
     ]
    }
   ],
   "source": [
    "# Predict the price of a house with 1650 sqft, 3 bedrooms, 2 floors and 20 years old using the model parameters from gradient descent, linear regression and SGD\n",
    "X_test = np.array([1650, 3, 2, 20]).reshape(1, -1)\n",
    "X_test_scaled = scaler.transform(X_test)\n",
    "X_test_scaled_1 = np.column_stack((np.ones(X_test_scaled.shape[0]), X_test_scaled))\n",
    "\n",
    "price_gd = X_test_scaled_1.dot(w)\n",
    "price_lr = lin_reg.predict(X_test_scaled)\n",
    "price_sgd = sgd_reg.predict(X_test_scaled)\n",
    "\n",
    "print(f\"Price of the house using gradient descent: {price_gd}\")\n",
    "print(f\"Price of the house using linear regression: {price_lr}\")\n",
    "print(f\"Price of the house using SGD: {price_sgd}\")\n"
   ]
  },
  {
   "cell_type": "code",
   "execution_count": null,
   "id": "428e4dd3",
   "metadata": {},
   "outputs": [],
   "source": []
  }
 ],
 "metadata": {
  "kernelspec": {
   "display_name": "Python 3 (ipykernel)",
   "language": "python",
   "name": "python3"
  },
  "language_info": {
   "codemirror_mode": {
    "name": "ipython",
    "version": 3
   },
   "file_extension": ".py",
   "mimetype": "text/x-python",
   "name": "python",
   "nbconvert_exporter": "python",
   "pygments_lexer": "ipython3",
   "version": "3.11.8"
  }
 },
 "nbformat": 4,
 "nbformat_minor": 5
}
