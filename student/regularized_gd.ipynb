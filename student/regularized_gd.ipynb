{
 "cells": [
  {
   "cell_type": "raw",
   "id": "923aee8b-9063-41e2-8387-ccb34025dc70",
   "metadata": {
    "vscode": {
     "languageId": "raw"
    }
   },
   "source": [
    "---\n",
    "title: \"Quiz 5: Regularized Gradient Descent for Linear Regression\"\n",
    "format:\n",
    "  html:\n",
    "    toc: true\n",
    "    toc-title: Contents\n",
    "    number-sections: true\n",
    "    toc-depth: 4\n",
    "    code-fold: show\n",
    "    self-contained: true\n",
    "jupyter: python3\n",
    "---"
   ]
  },
  {
   "cell_type": "markdown",
   "id": "62cdb3da",
   "metadata": {},
   "source": [
    "##  Learning Objectives\n",
    "\n",
    "By the end of this comprehensive lab, you will master the following key concepts and skills:\n",
    "\n",
    "### Theoretical Understanding\n",
    "* **Grasp the overfitting problem**: Understand how complex models can memorize training data but fail to generalize\n",
    "* **Learn regularization fundamentals**: Discover how L1 and L2 penalties constrain model complexity\n",
    "* **Mathematical foundations**: Derive and understand the modified cost functions and gradient formulas for regularized regression\n",
    "\n",
    "### Implementation Mastery\n",
    "* **Extend cost functions**: Add L1 (Lasso) and L2 (Ridge) regularization terms to prevent overfitting\n",
    "* **Vectorized gradient descent**: Implement efficient, matrix-based gradient descent algorithms for both regularization types  \n",
    "* **Handle non-differentiability**: Navigate the challenges of L1 regularization's non-smooth optimization landscape\n",
    "* **Professional coding practices**: Write clean, documented, and efficient machine learning code\n",
    "\n",
    "### Practical Application\n",
    "* **Real overfitting scenario**: Work with a deliberately overfitted polynomial regression model\n",
    "* **Hyperparameter tuning**: Explore how regularization strength (λ) affects model behavior\n",
    "* **Scikit-learn integration**: Leverage industry-standard Lasso and Ridge implementations\n",
    "* **Performance evaluation**: Use RMSE and learning curves to assess model quality\n",
    "\n",
    "### Comparative Analysis\n",
    "* **Method comparison**: Systematically compare custom implementations vs. scikit-learn\n",
    "* **L1 vs L2 analysis**: Understand when to use Lasso (feature selection) vs Ridge (parameter shrinkage)\n",
    "* **Bias-variance tradeoff**: Observe how regularization balances underfitting and overfitting\n",
    "* **Convergence behavior**: Analyze training vs. test performance across different approaches\n",
    "\n",
    "### Key Insights You'll Gain\n",
    "* Why regularization is essential for small datasets and high-dimensional features\n",
    "* How L1 regularization promotes sparsity (automatic feature selection)\n",
    "* Why L2 regularization provides smoother, more stable solutions\n",
    "* When to choose custom implementations vs. pre-built libraries in real-world projects"
   ]
  },
  {
   "cell_type": "markdown",
   "id": "42a58cd4",
   "metadata": {},
   "source": [
    "## Essential Libraries and Dependencies\n",
    "\n",
    "We'll import the core libraries needed for this comprehensive regularization lab:\n",
    "\n",
    "- **NumPy & Matplotlib**: Numerical computing and data visualization\n",
    "- **Pandas**: Data manipulation and analysis framework\n",
    "- **Scikit-learn**: Professional ML implementations (Lasso, Ridge, StandardScaler)\n",
    "- **Math & Copy**: Utility functions for mathematical operations and object copying "
   ]
  },
  {
   "cell_type": "code",
   "execution_count": 289,
   "id": "393fb92e-6a73-44b8-97c2-4ee7aa19345a",
   "metadata": {},
   "outputs": [],
   "source": [
    "import numpy as np\n",
    "import matplotlib.pyplot as plt\n",
    "import pandas as pd\n",
    "import copy, math\n",
    "from sklearn.linear_model import Lasso, Ridge\n",
    "from sklearn.preprocessing import StandardScaler"
   ]
  },
  {
   "cell_type": "markdown",
   "id": "193f3d2b",
   "metadata": {},
   "source": [
    "## Synthetic Dataset Creation: Setting Up for Overfitting\n",
    "\n",
    "**Educational Purpose**: We'll deliberately create a scenario prone to overfitting:\n",
    "\n",
    "- **Small sample size** (only ~10% for training)\n",
    "- **High-dimensional features** (polynomial terms up to x^15)\n",
    "- **Noisy target function** (sine wave + random noise)\n",
    "\n",
    "This setup perfectly demonstrates why regularization is essential in machine learning!"
   ]
  },
  {
   "cell_type": "code",
   "execution_count": 290,
   "id": "fda1d729",
   "metadata": {},
   "outputs": [
    {
     "data": {
      "image/png": "[encoded data removed]",
      "text/plain": [
       "<Figure size 640x480 with 1 Axes>"
      ]
     },
     "metadata": {},
     "output_type": "display_data"
    }
   ],
   "source": [
    "#Define input array with angles from 60deg to 300deg converted to radians\n",
    "x = np.array([i*np.pi/60 for i in range(120)])\n",
    "# x = np.array([i*np.pi/180 for i in range(360)])\n",
    "\n",
    "np.random.seed(10)  #Setting seed for reproducibility\n",
    "y = np.sin(x) + np.random.normal(0,0.15,len(x))\n",
    "data = pd.DataFrame(np.column_stack([x,y]),columns=['x','y'])\n",
    "plt.plot(data['x'],data['y'],'.')\n",
    "plt.show()"
   ]
  },
  {
   "cell_type": "code",
   "execution_count": 291,
   "id": "5df268c1",
   "metadata": {},
   "outputs": [
    {
     "name": "stdout",
     "output_type": "stream",
     "text": [
      "         x         y       x_2       x_3       x_4           x_5  \\\n",
      "0  0.00000  0.199738  0.000000  0.000000  0.000000  0.000000e+00   \n",
      "1  0.05236  0.159628  0.002742  0.000144  0.000008  3.935438e-07   \n",
      "2  0.10472 -0.127282  0.010966  0.001148  0.000120  1.259340e-05   \n",
      "3  0.15708  0.155177  0.024674  0.003876  0.000609  9.563115e-05   \n",
      "4  0.20944  0.301112  0.043865  0.009187  0.001924  4.029889e-04   \n",
      "\n",
      "            x_6           x_7           x_8           x_9          x_10  \\\n",
      "0  0.000000e+00  0.000000e+00  0.000000e+00  0.000000e+00  0.000000e+00   \n",
      "1  2.060591e-08  1.078923e-09  5.649226e-11  2.957928e-12  1.548767e-13   \n",
      "2  1.318778e-06  1.381021e-07  1.446202e-08  1.514459e-09  1.585938e-10   \n",
      "3  1.502171e-05  2.359604e-06  3.706457e-07  5.822090e-08  9.145317e-09   \n",
      "4  8.440179e-05  1.767707e-05  3.702277e-06  7.754031e-07  1.624000e-07   \n",
      "\n",
      "           x_11          x_12          x_13          x_14          x_15  \n",
      "0  0.000000e+00  0.000000e+00  0.000000e+00  0.000000e+00  0.000000e+00  \n",
      "1  8.109328e-15  4.246034e-16  2.223218e-17  1.164074e-18  6.095079e-20  \n",
      "2  1.660790e-11  1.739176e-12  1.821260e-13  1.907219e-14  1.997235e-15  \n",
      "3  1.436543e-09  2.256517e-10  3.544528e-11  5.567731e-12  8.745772e-13  \n",
      "4  3.401299e-08  7.123663e-09  1.491976e-09  3.124788e-10  6.544541e-11  \n"
     ]
    }
   ],
   "source": [
    "for i in range(2,16):  #power of 1 is already there\n",
    "    colname = 'x_%d'%i      #new var will be x_power\n",
    "    data[colname] = data['x']**i\n",
    "print(data.head())"
   ]
  },
  {
   "cell_type": "code",
   "execution_count": 292,
   "id": "428e4dd3",
   "metadata": {},
   "outputs": [
    {
     "name": "stdout",
     "output_type": "stream",
     "text": [
      "Number of observations in the training data: 7\n",
      "Number of observations in the test data: 113\n"
     ]
    }
   ],
   "source": [
    "# split into train and test \n",
    "np.random.seed(123)\n",
    "# split the data into train and test, less data is prone to overfitting, so we will only use 10% data for training\n",
    "mask = np.random.rand(len(data)) < 0.1\n",
    "train = data[mask]\n",
    "test = data[~mask]\n",
    "print('Number of observations in the training data:', len(train))\n",
    "print('Number of observations in the test data:',len(test))"
   ]
  },
  {
   "cell_type": "code",
   "execution_count": 293,
   "id": "5295b771",
   "metadata": {},
   "outputs": [],
   "source": [
    "# split feature and target\n",
    "X_train = train.drop('y', axis=1).values\n",
    "y_train = train['y'].values\n",
    "X_test = test.drop('y', axis=1).values\n",
    "y_test = test['y'].values"
   ]
  },
  {
   "cell_type": "code",
   "execution_count": 294,
   "id": "d1222509",
   "metadata": {},
   "outputs": [
    {
     "data": {
      "text/plain": [
       "[<matplotlib.lines.Line2D at 0x139775c10>]"
      ]
     },
     "execution_count": 294,
     "metadata": {},
     "output_type": "execute_result"
    },
    {
     "data": {
      "image/png": "[encoded data removed]",
      "text/plain": [
       "<Figure size 640x480 with 1 Axes>"
      ]
     },
     "metadata": {},
     "output_type": "display_data"
    }
   ],
   "source": [
    "plt.plot(X_train[:,0], y_train, 'b.')   "
   ]
  },
  {
   "cell_type": "markdown",
   "id": "76a4123d",
   "metadata": {},
   "source": [
    "## Critical Observation: The Perfect Storm for Overfitting\n",
    "\n",
    "This is a textbook case where regularization becomes absolutely essential!\n",
    "\n",
    "Notice the dangerous combination we've created:\n",
    "\n",
    "- **Extremely small training set**: Only ~7-12 training instances\n",
    "   - No regularization means unlimited parameter growth\n",
    "\n",
    "\n",
    "- **High feature dimensionality**: 15 polynomial features  \n",
    "   - Each polynomial term can memorize individual training points\n",
    "\n",
    "- **Complex underlying pattern**: Sine wave with noise\n",
    "   \n",
    "\n",
    "**Why this leads to overfitting:**\n",
    "\n",
    "- The model has more parameters (15) than training examples (~7-12)"
   ]
  },
  {
   "cell_type": "code",
   "execution_count": 295,
   "id": "29f67140",
   "metadata": {},
   "outputs": [],
   "source": [
    "# do standardization\n",
    "scaler = StandardScaler()\n",
    "X_train_scaled = scaler.fit_transform(X_train)\n",
    "X_test_scaled = scaler.transform(X_test)"
   ]
  },
  {
   "cell_type": "markdown",
   "id": "7e68724f",
   "metadata": {},
   "source": [
    "## Baseline Implementation: Vanilla Gradient Descent\n",
    "\n",
    "### Prerequisites: Building on Previous Knowledge\n",
    "\n",
    "Before we add regularization, let's establish our baseline with standard gradient descent. \n",
    "\n",
    "**Key Requirement**: Modified to track both training AND test performance to demonstrate overfitting.\n",
    "\n",
    "**Your Task**: Implement the core gradient descent functions from your previous lab:\n",
    "\n",
    "- `compute_cost_matrix()`: Calculate MSE cost using vectorization\n",
    "- `gradient_descent_matrix()`: Main optimization loop\n",
    "- `compute_gradient_matrix()`: Compute gradients efficiently "
   ]
  },
  {
   "cell_type": "code",
   "execution_count": 296,
   "id": "b77bd94d",
   "metadata": {},
   "outputs": [],
   "source": [
    "def compute_cost_matrix(X, y, w):\n",
    "    \"\"\"\n",
    "    Computes the Mean Squared Error cost for linear regression using vectorization\n",
    "    \n",
    "    Mathematical Formula: J(w) = (1/2m) * ||Xw - y||²\n",
    "    \n",
    "    Args:\n",
    "      X (ndarray (m,n+1)): Feature matrix, m training examples with n+1 features (including bias)\n",
    "      y (ndarray (m,)): Target values for training examples\n",
    "      w (ndarray (n+1,)): Model parameters (weights + bias)\n",
    "      \n",
    "    Returns:\n",
    "      cost (scalar): Mean squared error cost\n",
    "      \n",
    "\n",
    "    Implementation Hint:    return cost\n",
    "\n",
    "      Use vectorized operations: (X @ w - y).T @ (X @ w - y) / (2*m)    \n",
    "\n",
    "    \"\"\"    # Formula: J = (1/2m) * (predictions - targets)^2\n",
    "    # TODO: Implement vectorized MSE cost calculation\n",
    "    \n",
    "    m = X.shape[0]\n",
    "    error = X @ w - y\n",
    "    cost = (error.T @ error)/(2*m)\n",
    "    \n",
    "    return cost"
   ]
  },
  {
   "cell_type": "code",
   "execution_count": 297,
   "id": "e76c04fd",
   "metadata": {},
   "outputs": [],
   "source": [
    "def compute_gradient_matrix(X, y, w):\n",
    "    \"\"\"\n",
    "    Computes the gradient of MSE cost w.r.t. parameters using vectorization\n",
    "    \n",
    "    Mathematical Formula: ∇J(w) = (1/m) * X.T @ (Xw - y)\n",
    "    \n",
    "    Args:\n",
    "      X (ndarray (m,n+1)): Feature matrix with bias column\n",
    "      y (ndarray (m,)): Target values \n",
    "      w (ndarray (n+1,)): Current model parameters\n",
    "      \n",
    "    Returns:\n",
    "      dj_dw (ndarray (n+1,)): Gradient vector for all parameters\n",
    "      \n",
    "    Implementation Hint:\n",
    "\n",
    "      Vectorized form avoids loops: X.T @ (predictions - targets) / m    return dj_dw\n",
    "\n",
    "    \"\"\"    \n",
    "\n",
    "    # TODO: Implement vectorized gradient calculation    # Formula: dJ/dw = (1/m) * X.T * (X*w - y)\n",
    "    m = X.shape[0]\n",
    "    \n",
    "    # TODO: Implement the vectorized gradient computation\n",
    "    error = X @ w - y\n",
    "    dj_dw = (X.T @ error)/m\n",
    "    \n",
    "    return dj_dw"
   ]
  },
  {
   "cell_type": "markdown",
   "id": "aa44b134",
   "metadata": {},
   "source": [
    "## Enhanced Gradient Descent: Tracking Overfitting in Real-Time\n",
    "\n",
    "- Return both cost histories for visualization\n",
    "\n",
    "**Critical Modification**: We need to monitor BOTH training and test performance simultaneously to observe overfitting as it happens.\n",
    "\n",
    "- Print progress every 1000 iterations for monitoring\n",
    "- Calculate test cost at each iteration (without updating weights on test data)\n",
    "\n",
    "**Key Requirements:**\n",
    "\n",
    "- Track training cost at each iteration"
   ]
  },
  {
   "cell_type": "code",
   "execution_count": 298,
   "id": "4a36c343",
   "metadata": {},
   "outputs": [],
   "source": [
    "def gradient_descent_matrix(X, y, X_test, y_test, w_in, alpha, num_iters): \n",
    "    \"\"\"\n",
    "    Performs batch gradient descent to learn w. Updates w by taking \n",
    "    num_iters gradient steps with learning rate alpha\n",
    "    \n",
    "    Args:\n",
    "      X (ndarray (?,n+1))   : Training set, ? examples with n features\n",
    "      y (ndarray (?,))    : target values in test set\n",
    "      X_test (ndarray (?,n+1))   : Test set, ? examples with n features\n",
    "      y_test (ndarray (?,))    : target values in test set\n",
    "      w_in (ndarray (n+1,)) : initial model parameters  \n",
    "      alpha (float)       : Learning rate\n",
    "      num_iters (int)     : number of iterations to run gradient descent\n",
    "      \n",
    "    Returns:\n",
    "      w (ndarray (n+1,)) : Updated values of parameters\n",
    "      J_history           : Cost of the model on the training set after each iteration\n",
    "      test_J_history      : Cost of the model on test set after each iteration\n",
    "      \"\"\"\n",
    "    \n",
    "    # implement the batch gradient descent algorithm using the compute_gradient and compute_cost functions\n",
    "\n",
    "    J_history = []\n",
    "    test_J_history = []\n",
    "    w = copy.deepcopy(w_in)\n",
    "\n",
    "    for i in range(num_iters):\n",
    "        dj_dw = compute_gradient_matrix(X, y, w)\n",
    "        w = w - alpha * dj_dw\n",
    "\n",
    "        train_cost = compute_cost_matrix(X, y, w)\n",
    "        test_cost = compute_cost_matrix(X_test, y_test, w)\n",
    "        J_history.append(train_cost)\n",
    "        test_J_history.append(test_cost)\n",
    "\n",
    "        if i % 1000 == 0:\n",
    "            print(f\"Iteration {i:5d} | Train Cost: {train_cost:8.4f} | Test Cost: {test_cost:8.4f}\")\n",
    "    \n",
    "    return w, J_history, test_J_history"
   ]
  },
  {
   "cell_type": "markdown",
   "id": "1c176ebc",
   "metadata": {},
   "source": [
    "## Testing Your Implementation: Demonstrating Overfitting\n",
    "\n",
    "**Expected Outcome**: You should observe the training cost decreasing while test cost increases - classic overfitting!\n",
    "\n",
    "**Experiment Parameters:**\n",
    "\n",
    "- Learning rate: `alpha = 0.1` (aggressive for faster convergence)\n",
    "- Data: Use standardized features (`X_train_scaled`, `X_test_scaled`)\n",
    "- Iterations: `num_iters = 50000` (ensure full convergence)"
   ]
  },
  {
   "cell_type": "code",
   "execution_count": 299,
   "id": "d7a34a06",
   "metadata": {},
   "outputs": [
    {
     "name": "stdout",
     "output_type": "stream",
     "text": [
      "Iteration     0 | Train Cost:   0.1867 | Test Cost:   0.2093\n",
      "Iteration  1000 | Train Cost:   0.0089 | Test Cost:   0.0778\n",
      "Iteration  2000 | Train Cost:   0.0077 | Test Cost:   0.0663\n",
      "Iteration  3000 | Train Cost:   0.0066 | Test Cost:   0.0572\n",
      "Iteration  4000 | Train Cost:   0.0057 | Test Cost:   0.0501\n",
      "Iteration  5000 | Train Cost:   0.0049 | Test Cost:   0.0448\n",
      "Iteration  6000 | Train Cost:   0.0043 | Test Cost:   0.0408\n",
      "Iteration  7000 | Train Cost:   0.0037 | Test Cost:   0.0380\n",
      "Iteration  8000 | Train Cost:   0.0033 | Test Cost:   0.0360\n",
      "Iteration  9000 | Train Cost:   0.0029 | Test Cost:   0.0348"
     ]
    },
    {
     "name": "stderr",
     "output_type": "stream",
     "text": [
      "/var/folders/gh/cqj50_1n327g30y1fzs44zt40000gn/T/ipykernel_25955/2202114565.py:24: RuntimeWarning: divide by zero encountered in matmul\n",
      "  error = X @ w - y\n",
      "/var/folders/gh/cqj50_1n327g30y1fzs44zt40000gn/T/ipykernel_25955/2202114565.py:24: RuntimeWarning: overflow encountered in matmul\n",
      "  error = X @ w - y\n",
      "/var/folders/gh/cqj50_1n327g30y1fzs44zt40000gn/T/ipykernel_25955/2202114565.py:24: RuntimeWarning: invalid value encountered in matmul\n",
      "  error = X @ w - y\n"
     ]
    },
    {
     "name": "stdout",
     "output_type": "stream",
     "text": [
      "\n",
      "Iteration 10000 | Train Cost:   0.0026 | Test Cost:   0.0342\n",
      "Iteration 11000 | Train Cost:   0.0023 | Test Cost:   0.0339\n",
      "Iteration 12000 | Train Cost:   0.0021 | Test Cost:   0.0341\n",
      "Iteration 13000 | Train Cost:   0.0019 | Test Cost:   0.0344\n",
      "Iteration 14000 | Train Cost:   0.0017 | Test Cost:   0.0350\n",
      "Iteration 15000 | Train Cost:   0.0016 | Test Cost:   0.0357\n",
      "Iteration 16000 | Train Cost:   0.0014 | Test Cost:   0.0365\n",
      "Iteration 17000 | Train Cost:   0.0013 | Test Cost:   0.0374\n",
      "Iteration 18000 | Train Cost:   0.0012 | Test Cost:   0.0383\n",
      "Iteration 19000 | Train Cost:   0.0012 | Test Cost:   0.0392\n",
      "Iteration 20000 | Train Cost:   0.0011 | Test Cost:   0.0401\n",
      "Iteration 21000 | Train Cost:   0.0011 | Test Cost:   0.0410\n",
      "Iteration 22000 | Train Cost:   0.0010 | Test Cost:   0.0419\n",
      "Iteration 23000 | Train Cost:   0.0010 | Test Cost:   0.0427\n",
      "Iteration 24000 | Train Cost:   0.0010 | Test Cost:   0.0435\n",
      "Iteration 25000 | Train Cost:   0.0009 | Test Cost:   0.0442\n",
      "Iteration 26000 | Train Cost:   0.0009 | Test Cost:   0.0449\n",
      "Iteration 27000 | Train Cost:   0.0009 | Test Cost:   0.0455\n",
      "Iteration 28000 | Train Cost:   0.0009 | Test Cost:   0.0461\n",
      "Iteration 29000 | Train Cost:   0.0009 | Test Cost:   0.0467\n",
      "Iteration 30000 | Train Cost:   0.0008 | Test Cost:   0.0472\n",
      "Iteration 31000 | Train Cost:   0.0008 | Test Cost:   0.0476\n",
      "Iteration 32000 | Train Cost:   0.0008 | Test Cost:   0.0480\n",
      "Iteration 33000 | Train Cost:   0.0008 | Test Cost:   0.0484\n",
      "Iteration 34000 | Train Cost:   0.0008 | Test Cost:   0.0487\n",
      "Iteration 35000 | Train Cost:   0.0008 | Test Cost:   0.0490\n",
      "Iteration 36000 | Train Cost:   0.0008 | Test Cost:   0.0492\n",
      "Iteration 37000 | Train Cost:   0.0008 | Test Cost:   0.0495\n",
      "Iteration 38000 | Train Cost:   0.0008 | Test Cost:   0.0497\n",
      "Iteration 39000 | Train Cost:   0.0008 | Test Cost:   0.0498\n",
      "Iteration 40000 | Train Cost:   0.0008 | Test Cost:   0.0499\n",
      "Iteration 41000 | Train Cost:   0.0008 | Test Cost:   0.0500\n",
      "Iteration 42000 | Train Cost:   0.0008 | Test Cost:   0.0501\n",
      "Iteration 43000 | Train Cost:   0.0008 | Test Cost:   0.0502\n",
      "Iteration 44000 | Train Cost:   0.0008 | Test Cost:   0.0502\n",
      "Iteration 45000 | Train Cost:   0.0008 | Test Cost:   0.0502\n",
      "Iteration 46000 | Train Cost:   0.0008 | Test Cost:   0.0503\n",
      "Iteration 47000 | Train Cost:   0.0008 | Test Cost:   0.0502\n",
      "Iteration 48000 | Train Cost:   0.0008 | Test Cost:   0.0502\n",
      "Iteration 49000 | Train Cost:   0.0008 | Test Cost:   0.0502\n"
     ]
    }
   ],
   "source": [
    "# Do the gradient descent with the scaled data\n",
    "# add a column of ones to the X_train\n",
    "\n",
    "m_train = X_train_scaled.shape[0]\n",
    "ones_column_train = np.ones((m_train, 1))\n",
    "X_train_scaled = np.c_[ones_column_train, X_train_scaled]\n",
    "\n",
    "m_test = X_test_scaled.shape[0]\n",
    "ones_column_test = np.ones((m_test, 1))\n",
    "X_test_scaled = np.c_[ones_column_test, X_test_scaled]\n",
    "\n",
    "n = X_train_scaled.shape[1]\n",
    "w_in = np.zeros((n,))\n",
    "alpha = 0.1\n",
    "num_iters = 50000\n",
    "\n",
    "w_vanilla, J_history, test_J_history = gradient_descent_matrix(X_train_scaled, y_train, X_test_scaled, y_test, w_in, alpha, num_iters)"
   ]
  },
  {
   "cell_type": "code",
   "execution_count": 300,
   "id": "f55dfe84",
   "metadata": {},
   "outputs": [
    {
     "data": {
      "image/png": "[encoded data removed]",
      "text/plain": [
       "<Figure size 1000x500 with 2 Axes>"
      ]
     },
     "metadata": {},
     "output_type": "display_data"
    }
   ],
   "source": [
    "# putting the learning curve to show the overfitting issue of the model\n",
    "fig, axs = plt.subplots(1, 2, figsize=(10, 5))\n",
    "axs[0].plot(J_history, label='Training')\n",
    "axs[0].plot(test_J_history, label='Test')\n",
    "axs[0].set_xlabel('Iterations')\n",
    "axs[0].set_ylabel('Cost')\n",
    "axs[0].set_title('Cost vs. Iterations')\n",
    "axs[0].legend()\n",
    "\n",
    "axs[1].plot(J_history[5000:], label='Training')\n",
    "axs[1].plot(test_J_history[5000:], label='Test')\n",
    "axs[1].set_xlabel('Iterations')\n",
    "axs[1].set_ylabel('Cost')\n",
    "axs[1].set_title('Cost vs. Iterations after 5000 iterations')\n",
    "axs[1].legend()\n",
    "\n",
    "plt.show()"
   ]
  },
  {
   "cell_type": "code",
   "execution_count": 301,
   "id": "9a719dc3",
   "metadata": {},
   "outputs": [
    {
     "name": "stderr",
     "output_type": "stream",
     "text": [
      "/var/folders/gh/cqj50_1n327g30y1fzs44zt40000gn/T/ipykernel_25955/601166843.py:7: RuntimeWarning: divide by zero encountered in matmul\n",
      "  axs[1].plot(X_test[:, 0:1], X_test_scaled @ w_vanilla, 'g')\n",
      "/var/folders/gh/cqj50_1n327g30y1fzs44zt40000gn/T/ipykernel_25955/601166843.py:7: RuntimeWarning: overflow encountered in matmul\n",
      "  axs[1].plot(X_test[:, 0:1], X_test_scaled @ w_vanilla, 'g')\n",
      "/var/folders/gh/cqj50_1n327g30y1fzs44zt40000gn/T/ipykernel_25955/601166843.py:7: RuntimeWarning: invalid value encountered in matmul\n",
      "  axs[1].plot(X_test[:, 0:1], X_test_scaled @ w_vanilla, 'g')\n"
     ]
    },
    {
     "data": {
      "image/png": "[encoded data removed]",
      "text/plain": [
       "<Figure size 1000x500 with 2 Axes>"
      ]
     },
     "metadata": {},
     "output_type": "display_data"
    }
   ],
   "source": [
    "# plot the model on the train and test data\n",
    "fig, axs = plt.subplots(1, 2, figsize=(10,5))\n",
    "fig.suptitle('Train and Test Data')\n",
    "axs[0].plot(X_train[:, 0:1], X_train_scaled @ w_vanilla, 'r')\n",
    "axs[0].plot(X_train[:, 0:1], y_train, '.')\n",
    "axs[0].set_title('Train Data')\n",
    "axs[1].plot(X_test[:, 0:1], X_test_scaled @ w_vanilla, 'g')\n",
    "axs[1].plot(X_test[:, 0:1], y_test, '.')\n",
    "axs[1].set_title('Test Data')\n",
    "plt.show()"
   ]
  },
  {
   "cell_type": "code",
   "execution_count": 302,
   "id": "6164dbee",
   "metadata": {},
   "outputs": [
    {
     "name": "stdout",
     "output_type": "stream",
     "text": [
      "Training RMSE: 0.0389\n",
      "Test RMSE: 0.3166\n"
     ]
    },
    {
     "name": "stderr",
     "output_type": "stream",
     "text": [
      "/var/folders/gh/cqj50_1n327g30y1fzs44zt40000gn/T/ipykernel_25955/3226830168.py:4: RuntimeWarning: divide by zero encountered in matmul\n",
      "  test_RMSE_vanilla = np.sqrt(np.mean((X_test_scaled @ w_vanilla - y_test) ** 2))\n",
      "/var/folders/gh/cqj50_1n327g30y1fzs44zt40000gn/T/ipykernel_25955/3226830168.py:4: RuntimeWarning: overflow encountered in matmul\n",
      "  test_RMSE_vanilla = np.sqrt(np.mean((X_test_scaled @ w_vanilla - y_test) ** 2))\n",
      "/var/folders/gh/cqj50_1n327g30y1fzs44zt40000gn/T/ipykernel_25955/3226830168.py:4: RuntimeWarning: invalid value encountered in matmul\n",
      "  test_RMSE_vanilla = np.sqrt(np.mean((X_test_scaled @ w_vanilla - y_test) ** 2))\n"
     ]
    }
   ],
   "source": [
    "# output the final RMSE for the training and test set\n",
    "\n",
    "train_RMSE_vanilla = np.sqrt(np.mean((X_train_scaled @ w_vanilla - y_train) ** 2))\n",
    "test_RMSE_vanilla = np.sqrt(np.mean((X_test_scaled @ w_vanilla - y_test) ** 2))\n",
    "\n",
    "print(f\"Training RMSE: {train_RMSE_vanilla:.4f}\")\n",
    "print(f\"Test RMSE: {test_RMSE_vanilla:.4f}\")"
   ]
  },
  {
   "cell_type": "markdown",
   "id": "802e2472",
   "metadata": {},
   "source": [
    "## Analysis: Overfitting Confirmed!\n",
    "\n",
    "**The Solution**: Add regularization to constrain parameter growth and improve generalization. \n",
    "\n",
    "**What You Should Observe:**\n",
    "\n",
    "- **Training RMSE**: Very low (model memorized training data)\n",
    "  - **The Problem**: Our model learned the noise, not the underlying pattern!\n",
    "\n",
    "- **Test RMSE**: Much higher (poor generalization)\n",
    "\n",
    "- **Learning curves**: Training cost ↓, Test cost ↑ (diverging lines)\n",
    "- **Visualizations**: Perfect fit on training, erratic on test data"
   ]
  },
  {
   "cell_type": "markdown",
   "id": "4576e7ca",
   "metadata": {},
   "source": [
    "## Regularization: The Overfitting Solution\n",
    "\n",
    "**Core Concept**: Add a penalty term to the cost function that discourages large parameter values.\n",
    "\n",
    "**Why Regularization Works:**\n",
    "- **Constrains model complexity** by limiting parameter magnitude\n",
    "- **Improves generalization** by preventing memorization of training noise\n",
    "- **Provides smoothness** by preferring simpler, more stable solutions\n",
    "- **Reduces variance** while introducing controlled bias\n",
    "\n",
    "**Two Main Regularization Types:**\n",
    "- **L1 (Lasso)**: λ||w||₁ - Promotes sparsity, drives weights to exactly zero\n",
    "- **L2 (Ridge)**: λ||w||₂² - Shrinks weights smoothly, keeps all features active\n",
    "\n",
    "**Mathematical Intuition**: Both add penalty terms that grow with parameter magnitude, forcing the optimizer to balance fitting the data with keeping weights small.\n",
    "\n",
    "<b>Cost function for L1 regularized linear regression</b>\n",
    "\\begin{equation}\n",
    "J(w) = 1/2m \\sum_{i=1}^{m} (f_{\\mathbf{w}}(\\mathbf{x})^{(i)} - y^{(i)})^2 +\\lambda/2m\\sum_{j=1}^{n} |w_j|  \\tag{1}\n",
    "\\end{equation}\n",
    "\n",
    "**Vectorized L1 Regularized Cost Function with Summation**\n",
    "\n",
    "\\begin{equation}\n",
    "J(W) = \\frac{1}{2m} (XW - y)^T (XW - y) + \\lambda \\sum_{j=1}^{n} |w_j|   \\tag{2}\n",
    "\\end{equation}\n",
    "\n",
    "**L1 In Vectorized Form**\n",
    "\n",
    "\\begin{equation}\n",
    "J(W) = \\frac{1}{2m} (XW - y)^T (XW - y) + \\lambda \\| W \\|_1   \\tag{3}\n",
    "\\end{equation}\n",
    "\n",
    "<b>Cost function for L2 regularized linear regression</b>\n",
    "\n",
    "\\begin{equation}\n",
    "J(w) = 1/2m \\sum_{i=1}^{m} (f_{\\mathbf{w}}(\\mathbf{x})^{(i)} - y^{(i)})^2 +\\lambda/2m\\sum_{j=1}^{n} w_j^2   \\tag{4}\n",
    "\\end{equation}\n",
    "\n",
    "\n",
    "**Vectorized L2 Regularized Cost Function with Summation**\n",
    "\n",
    "\\begin{equation}\n",
    "J(W) = \\frac{1}{2m} (XW - y)^T (XW - y) + \\lambda \\sum_{j=1}^{n} w_j^2    \\tag{5}\n",
    "\\end{equation}\n",
    "\n",
    "**L2 Regularized Cost Function in Vectorized Form**\n",
    "\n",
    "\\begin{equation}\n",
    "J(W) = \\frac{1}{2m} (XW - y)^T (XW - y) + \\frac{\\lambda}{2} \\| W \\|_2^2    \\tag{6}\n",
    "\\end{equation}\n",
    "\n",
    "\n",
    "Compare this to the cost function without regularization (which you implemented in  a previous lab), which is of the form:\n",
    "\n",
    "\n",
    "\\begin{equation} \n",
    "J(W) = \\frac{1}{2m} (XW - y)^T (XW - y)    \\tag{7}\n",
    "\\end{equation}\n",
    "\n",
    "\n",
    "\n",
    "The difference is the regularization term,  <span style=\"color:red\">\n",
    "    $\\frac{\\lambda}{2m}  \\sum_{j=1}^{n} w_j^2$ </span> and <span style=\"color:red\">\n",
    "    $\\frac{\\lambda}{2m} \\sum_{j=1}^{n} |w_j|$ \n",
    "    \n",
    "Including this term encourages gradient descent to minimize the size of the parameters.\n",
    "\n",
    " **Note, in this example, the parameter $w_0$ is not regularized. This is standard practice.**"
   ]
  },
  {
   "cell_type": "markdown",
   "id": "2bd21f72",
   "metadata": {},
   "source": [
    "## Gradient descent with regularization\n",
    "The basic algorithm for running gradient descent does not change with regularization, it is:\n",
    "$$\\begin{align*}\n",
    "&\\text{repeat until convergence:} \\; \\lbrace \\\\\n",
    "&  \\; \\; \\;w_j = w_j -  \\alpha \\frac{\\partial J(\\mathbf{w})}{\\partial w_j} \\tag{1}  \\; & \\text{for j := 0..n} \\\\    \n",
    "&\\rbrace\n",
    "\\end{align*}$$\n",
    "Where each iteration performs simultaneous updates on $w_j$ for all $j$.\n",
    "\n",
    "What changes with regularization is computing the gradients. Let's try L2 regularization next"
   ]
  },
  {
   "cell_type": "markdown",
   "id": "bdee53d1",
   "metadata": {},
   "source": [
    "## Gradient For L2 regularization \n",
    "\n",
    "\\begin{equation}\n",
    "\\frac{\\partial J(w)}{\\partial w_j} = 1/m\\sum_{i=1}^{m}(f_{\\mathbf{w}}(\\mathbf{x})^{(i)} - y^{(i)}).x_j^{(i)} + (\\lambda/m)x_j^{(i)}  \\tag{8}\n",
    "\\end{equation}\n",
    "\n",
    "    \n",
    "The term which adds regularization is  the <span style=\"color:red\"> \n",
    "$\\frac{\\lambda}{m} w_j ^{(i)}$</span>, the parameter $w_0$ is not regularized\n",
    "\n",
    "**Vectorized form**\n",
    "\n",
    "\\begin{equation}\n",
    "W := W - \\alpha \\left( \\frac{1}{m} X^T (XW - y) + \\lambda W \\right)    \\tag{9}\n",
    "\\end{equation}\n",
    "\n"
   ]
  },
  {
   "cell_type": "markdown",
   "id": "62deb5eb",
   "metadata": {},
   "source": [
    "### Task 1: L2 Regularization Implementation (Ridge Regression)\n",
    "\n",
    "**Critical Note**: Do NOT regularize the bias term (w₀) - standard ML practice!\n",
    "\n",
    "**Objective**: Implement L2 regularization to combat overfitting through parameter shrinkage.\n",
    "\n",
    "- **Implementation**: Use vectorization for efficiency\n",
    "\n",
    "**Key Mathematical Changes:**- **Gradient**: Add λ * w regularization term to standard gradient\n",
    "- **Cost function**: Add λ/2 * ||w||₂² penalty term"
   ]
  },
  {
   "cell_type": "code",
   "execution_count": 303,
   "id": "330fd198",
   "metadata": {},
   "outputs": [],
   "source": [
    "def compute_cost_matrix_reg_l2(X, y, w, lambda_reg):\n",
    "    \"\"\"\n",
    "    🎯 Computes L2 regularized cost for linear regression (Ridge Regression)\n",
    "    \n",
    "    Mathematical Formula: \n",
    "    J(w) = (1/2m) * ||Xw - y||² + (λ/2) * ||w[1:]||²\n",
    "    \n",
    "    Args:\n",
    "      X (ndarray (m,n)): Feature matrix (including bias column)\n",
    "      y (ndarray (m,)): Target values\n",
    "      w (ndarray (n,)): Model parameters [bias, w1, w2, ..., wn]\n",
    "      lambda_reg (float): Regularization strength (λ)\n",
    "      \n",
    "    Returns:\n",
    "      cost (scalar): Total cost = MSE + L2 penalty\n",
    "      \n",
    "    Implementation Notes:\n",
    "\n",
    "      - Don't regularize bias term: w[0] excluded from penalty\n",
    "\n",
    "      - Use w[1:] for regularization term   \n",
    "\n",
    "      - Vectorized: λ/2 * np.sum(w[1:]**2)    # cost = MSE_cost + (lambda_reg/2) * sum(w[1:]^2)\n",
    "\n",
    "    \"\"\"    # TODO: Implement L2 regularized cost\n",
    "\n",
    "    m = X.shape[0]\n",
    "    error = X @ w - y\n",
    "    cost = (1/(2*m)) * (error.T @ error) + (lambda_reg/2) * (w[1:].T @ w[1:])\n",
    "\n",
    "    return cost\n"
   ]
  },
  {
   "cell_type": "code",
   "execution_count": 304,
   "id": "980326ad",
   "metadata": {},
   "outputs": [],
   "source": [
    "# Function to calculate the gradient with L2 regularization\n",
    "def compute_gradient_matrix_reg_l2(X, y, w, lambda_reg):\n",
    "    \"\"\"\n",
    "    Computes the gradient for linear regression with L2 regularization\n",
    "    \n",
    "    Args:\n",
    "      X (ndarray (m,n)): Data, m examples with n features\n",
    "      y (ndarray (m,)) : target values\n",
    "      w (ndarray (n,)) : model parameters\n",
    "      lambda_reg (float): regularization parameter\n",
    "      \n",
    "    Returns\n",
    "      dj_dw (ndarray (n,1)): The gradient of the cost w.r.t. the parameters w.\n",
    "    \"\"\"\n",
    "    # use vectorization to implement the gradient for linear regression with L2 regularization, do not regularize the bias term\n",
    "    \n",
    "    m = X.shape[0]\n",
    "    error = X @ w - y\n",
    "    dj_dw = (X.T @ error)/m\n",
    "    dj_dw[1:] += (lambda_reg / m) * w[1:]\n",
    "\n",
    "    return dj_dw"
   ]
  },
  {
   "cell_type": "code",
   "execution_count": 305,
   "id": "0f214e5d",
   "metadata": {},
   "outputs": [],
   "source": [
    "# Function to perform gradient descent with L2 regularization\n",
    "def gradient_descent_matrix_reg_l2(X, y, X_test, y_test, w_in, alpha, num_iters, lambda_reg):\n",
    "    \"\"\"\n",
    "    Performs batch gradient descent to learn w. Updates w by taking \n",
    "    num_iters gradient steps with learning rate alpha\n",
    "    \n",
    "    Args:\n",
    "      X (ndarray (?,n+1))   : Training Data, m examples with n features\n",
    "      y (ndarray (?,))    : Training target values\n",
    "      X_test (ndarray (?,n+1))   : Test set, m examples with n features\n",
    "      y_test (ndarray (?,))    : target values in test set\n",
    "      w_in (ndarray (n+1,)) : initial model parameters  \n",
    "      alpha (float)       : Learning rate\n",
    "      num_iters (int)     : number of iterations to run gradient descent\n",
    "      lambda_reg (float)  : regularization parameter\n",
    "      \n",
    "    Returns:\n",
    "      w (ndarray (n+1,)) : Updated values of parameters\n",
    "      J_history           : Cost of the model after each iteration\n",
    "      test_J_history      : Cost of the model on test set after each iteration\n",
    "      \"\"\"\n",
    "    \n",
    "    # implement the batch gradient descent algorithm with L2 regularization using the compute_gradient and compute_cost functions\n",
    "   \n",
    "\n",
    "        # print cost every 5000 iteration\n",
    "\n",
    "    J_history = []\n",
    "    test_J_history = []\n",
    "    w = copy.deepcopy(w_in)\n",
    "\n",
    "    for i in range(num_iters):\n",
    "        dj_dw = compute_gradient_matrix_reg_l2(X, y, w, lambda_reg)\n",
    "        w = w - alpha * dj_dw\n",
    "\n",
    "        train_cost = compute_cost_matrix_reg_l2(X, y, w, lambda_reg)\n",
    "        test_cost = compute_cost_matrix_reg_l2(X_test, y_test, w, lambda_reg)\n",
    "        J_history.append(train_cost)\n",
    "        test_J_history.append(test_cost)\n",
    "\n",
    "        if i % 5000 == 0:\n",
    "            print(f\"Iteration {i:5d} | Train Cost: {train_cost:8.4f} | Test Cost: {test_cost:8.4f}\")\n",
    "    \n",
    "    return w, J_history, test_J_history"
   ]
  },
  {
   "cell_type": "code",
   "execution_count": 306,
   "id": "816463b8",
   "metadata": {},
   "outputs": [
    {
     "name": "stderr",
     "output_type": "stream",
     "text": [
      "/var/folders/gh/cqj50_1n327g30y1fzs44zt40000gn/T/ipykernel_25955/3910531121.py:28: RuntimeWarning: divide by zero encountered in matmul\n",
      "  error = X @ w - y\n",
      "/var/folders/gh/cqj50_1n327g30y1fzs44zt40000gn/T/ipykernel_25955/3910531121.py:28: RuntimeWarning: overflow encountered in matmul\n",
      "  error = X @ w - y\n",
      "/var/folders/gh/cqj50_1n327g30y1fzs44zt40000gn/T/ipykernel_25955/3910531121.py:28: RuntimeWarning: invalid value encountered in matmul\n",
      "  error = X @ w - y\n"
     ]
    },
    {
     "name": "stdout",
     "output_type": "stream",
     "text": [
      "Iteration     0 | Train Cost:   0.1867 | Test Cost:   0.2093\n",
      "Iteration  5000 | Train Cost:   0.0107 | Test Cost:   0.0538\n",
      "Iteration 10000 | Train Cost:   0.0140 | Test Cost:   0.0481\n",
      "Iteration 15000 | Train Cost:   0.0166 | Test Cost:   0.0487\n",
      "Iteration 20000 | Train Cost:   0.0180 | Test Cost:   0.0497\n",
      "Iteration 25000 | Train Cost:   0.0188 | Test Cost:   0.0503\n",
      "Iteration 30000 | Train Cost:   0.0192 | Test Cost:   0.0507\n",
      "Iteration 35000 | Train Cost:   0.0194 | Test Cost:   0.0508\n",
      "Iteration 40000 | Train Cost:   0.0195 | Test Cost:   0.0509\n",
      "Iteration 45000 | Train Cost:   0.0196 | Test Cost:   0.0509\n",
      "Iteration 50000 | Train Cost:   0.0196 | Test Cost:   0.0509\n",
      "Iteration 55000 | Train Cost:   0.0196 | Test Cost:   0.0509\n",
      "w found by gradient descent with regularization: [-0.09443169  0.68216965 -2.07547182 -1.01251535  0.18904816  0.7674349\n",
      "  0.87965241  0.75634026  0.54518555  0.3220876   0.12032046 -0.04897358\n",
      " -0.18510026 -0.29170039 -0.37373983 -0.43613285] \n"
     ]
    }
   ],
   "source": [
    "# initialize the model parameters to 0\n",
    "w = np.zeros(X_train_scaled.shape[1])\n",
    "\n",
    "# run the gradient descent algorithm for 1000 iterations with a learning rate of 0.01 and lambda = 0.1\n",
    "alpha = 0.1\n",
    "num_iters = 60000\n",
    "lambda_l2 = 0.004\n",
    "\n",
    "GD_L2_w, J_history, test_J_history = gradient_descent_matrix_reg_l2(X_train_scaled, y_train, X_test_scaled, y_test, w, alpha, num_iters, lambda_l2)\n",
    "print(f\"w found by gradient descent with regularization: {GD_L2_w} \")\n"
   ]
  },
  {
   "cell_type": "code",
   "execution_count": 307,
   "id": "2fd5d835",
   "metadata": {},
   "outputs": [
    {
     "data": {
      "image/png": "[encoded data removed]",
      "text/plain": [
       "<Figure size 640x480 with 1 Axes>"
      ]
     },
     "metadata": {},
     "output_type": "display_data"
    }
   ],
   "source": [
    "# plot the cost over the iterations\n",
    "plt.plot(J_history, label='Training')\n",
    "plt.plot(test_J_history, label='Test')\n",
    "plt.xlabel('Iterations')\n",
    "plt.ylabel('Cost')\n",
    "plt.title('Cost vs Iterations')\n",
    "plt.legend()\n",
    "plt.show()"
   ]
  },
  {
   "cell_type": "code",
   "execution_count": 308,
   "id": "4ffe4e6e",
   "metadata": {},
   "outputs": [
    {
     "name": "stderr",
     "output_type": "stream",
     "text": [
      "/var/folders/gh/cqj50_1n327g30y1fzs44zt40000gn/T/ipykernel_25955/424278536.py:7: RuntimeWarning: divide by zero encountered in matmul\n",
      "  axs[1].plot(X_test[:, 0:1], X_test_scaled @ GD_L2_w, 'g')\n",
      "/var/folders/gh/cqj50_1n327g30y1fzs44zt40000gn/T/ipykernel_25955/424278536.py:7: RuntimeWarning: overflow encountered in matmul\n",
      "  axs[1].plot(X_test[:, 0:1], X_test_scaled @ GD_L2_w, 'g')\n",
      "/var/folders/gh/cqj50_1n327g30y1fzs44zt40000gn/T/ipykernel_25955/424278536.py:7: RuntimeWarning: invalid value encountered in matmul\n",
      "  axs[1].plot(X_test[:, 0:1], X_test_scaled @ GD_L2_w, 'g')\n"
     ]
    },
    {
     "data": {
      "image/png": "[encoded data removed]",
      "text/plain": [
       "<Figure size 1000x500 with 2 Axes>"
      ]
     },
     "metadata": {},
     "output_type": "display_data"
    }
   ],
   "source": [
    "# putting the above figures side by side for comparision, using subplots\n",
    "fig, axs = plt.subplots(1, 2, figsize=(10,5))\n",
    "fig.suptitle('Train and Test Data')\n",
    "axs[0].plot(X_train[:, 0:1], X_train_scaled @ GD_L2_w, 'r')\n",
    "axs[0].plot(X_train[:, 0:1], y_train, '.')\n",
    "axs[0].set_title('Train Data')\n",
    "axs[1].plot(X_test[:, 0:1], X_test_scaled @ GD_L2_w, 'g')\n",
    "axs[1].plot(X_test[:, 0:1], y_test, '.')\n",
    "axs[1].set_title('Test Data')\n",
    "plt.show()"
   ]
  },
  {
   "cell_type": "markdown",
   "id": "ea38b685",
   "metadata": {},
   "source": [
    "### Task2: output the final RMSE for the training and test set below for performance comparision at the end"
   ]
  },
  {
   "cell_type": "code",
   "execution_count": 309,
   "id": "e13b7def",
   "metadata": {},
   "outputs": [
    {
     "name": "stdout",
     "output_type": "stream",
     "text": [
      "Training RMSE: 0.0686\n",
      "Test RMSE: 0.2594\n"
     ]
    },
    {
     "name": "stderr",
     "output_type": "stream",
     "text": [
      "/var/folders/gh/cqj50_1n327g30y1fzs44zt40000gn/T/ipykernel_25955/444720331.py:3: RuntimeWarning: divide by zero encountered in matmul\n",
      "  test_RMSE_l2 = np.sqrt(np.mean((X_test_scaled @ GD_L2_w - y_test) ** 2))\n",
      "/var/folders/gh/cqj50_1n327g30y1fzs44zt40000gn/T/ipykernel_25955/444720331.py:3: RuntimeWarning: overflow encountered in matmul\n",
      "  test_RMSE_l2 = np.sqrt(np.mean((X_test_scaled @ GD_L2_w - y_test) ** 2))\n",
      "/var/folders/gh/cqj50_1n327g30y1fzs44zt40000gn/T/ipykernel_25955/444720331.py:3: RuntimeWarning: invalid value encountered in matmul\n",
      "  test_RMSE_l2 = np.sqrt(np.mean((X_test_scaled @ GD_L2_w - y_test) ** 2))\n"
     ]
    }
   ],
   "source": [
    "# Compute RMSE\n",
    "train_RMSE_l2 = np.sqrt(np.mean((X_train_scaled @ GD_L2_w - y_train) ** 2))\n",
    "test_RMSE_l2 = np.sqrt(np.mean((X_test_scaled @ GD_L2_w - y_test) ** 2))\n",
    "\n",
    "print(f\"Training RMSE: {train_RMSE_l2:.4f}\")\n",
    "print(f\"Test RMSE: {test_RMSE_l2:.4f}\")"
   ]
  },
  {
   "cell_type": "markdown",
   "id": "b2020fc3",
   "metadata": {},
   "source": [
    "## Using L1 Regularization to fix the overfitting issue\n",
    "\n",
    "The L1 gradient formula can be found below.\n",
    "\n",
    "\\begin{equation}\n",
    "W := W - \\alpha \\left( \\frac{1}{m} X^T (XW - y) + \\lambda \\, \\text{sgn}(W) \\right)    \\tag{10}\n",
    "\\end{equation}\n",
    "\n",
    "\n",
    "### L1 Implementation Challenges: Understanding the Difficulties\n",
    "\n",
    "Using gradient descent for L1 regularization (Lasso) presents unique optimization challenges:\n",
    "\n",
    "#### Primary Challenge: Non-differentiability\n",
    "* **Problem**: The L1 penalty |w| is not differentiable at w = 0\n",
    "* **Impact**: Gradient becomes undefined at zero points, causing optimization instability\n",
    "* **Result**: Standard gradient descent may struggle near sparse solutions\n",
    "\n",
    "#### Professional Solutions:\n",
    "\n",
    "* **Coordinate Descent**: Update one parameter at a time (sklearn's approach)Let's implement L1 regularization and observe both its benefits and challenges!\n",
    "\n",
    "* **Subgradient Methods**: Use sign function approximation (our approach)\n",
    "\n",
    "* **Proximal Methods**: Advanced techniques for non-smooth optimization\n",
    "\n",
    "* **Key Insight**: This is why professional libraries like sklearn use specialized algorithms rather than vanilla gradient descent for Lasso regression.\n",
    "\n",
    "* **Soft Thresholding**: Analytical solutions for certain cases\n",
    "\n",
    "We'll implement the subgradient method using `np.sign()` to approximate the L1 gradient. While this may show some convergence challenges, it demonstrates the core concepts and mathematical foundations.\n",
    "\n",
    "#### Our Educational Approach"
   ]
  },
  {
   "cell_type": "markdown",
   "id": "167df22d",
   "metadata": {},
   "source": [
    "### Task 3: L1 Regularization Implementation (Lasso Regression)\n",
    "\n",
    "**Expected Outcome**: Some polynomial features should be eliminated (coefficients → 0)!\n",
    "\n",
    "**Objective**: Implement L1 regularization for automatic feature selection and overfitting prevention.\n",
    "\n",
    "- **Sparsity**: Expect some coefficients to become exactly zero\n",
    "\n",
    "**Key Implementation Details:**\n",
    "\n",
    "- **Sign function**: Use np.sign() for gradient computation\n",
    "\n",
    "- **Cost function**: Add λ * ||w||₁ penalty term\n",
    "- **Gradient**: Add λ * sign(w) to standard gradient  "
   ]
  },
  {
   "cell_type": "code",
   "execution_count": 310,
   "id": "3453c9e9",
   "metadata": {},
   "outputs": [],
   "source": [
    "# Function to calculate the cost with L1 regularization\n",
    "def compute_cost_matrix_reg_l1(X, y, w, lambda_reg):\n",
    "    \"\"\"\n",
    "    Computes the cost for linear regression with L1 regularization\n",
    "    \n",
    "    Args:\n",
    "      X (ndarray (m,n)): Data, m examples with n features\n",
    "      y (ndarray (m,)) : target values\n",
    "      w (ndarray (n,)) : model parameters\n",
    "      lambda_reg (float): regularization parameter\n",
    "      \n",
    "    Returns\n",
    "      cost: (scalar)\n",
    "    \"\"\"\n",
    "    # use vectorization to implement the cost for linear regression with L1 regularization, do not regularize the bias term\n",
    "\n",
    "    m = X.shape[0]\n",
    "    error = X @ w - y\n",
    "    mse_cost = (1 / (2 * m)) * (error.T @ error)\n",
    "    l1_penalty = lambda_reg * np.sum(np.abs(w[1:]))\n",
    "    cost = mse_cost + l1_penalty\n",
    "    \n",
    "    return cost\n",
    "    "
   ]
  },
  {
   "cell_type": "code",
   "execution_count": 311,
   "id": "c1c4ee32",
   "metadata": {},
   "outputs": [],
   "source": [
    "# Function to calculate the gradient with L1 regularization\n",
    "def compute_gradient_matrix_reg_l1(X, y, w, lambda_reg):\n",
    "    \"\"\"\n",
    "    Computes the gradient for linear regression with L1 regularization\n",
    "    \n",
    "    Args:\n",
    "      X (ndarray (m,n)): Data, m examples with n features\n",
    "      y (ndarray (m,)) : target values\n",
    "      w (ndarray (n,)) : model parameters\n",
    "      lambda_reg (float): regularization parameter\n",
    "      \n",
    "    Returns\n",
    "      dj_dw (ndarray (n,1)): The gradient of the cost w.r.t. the parameters w.\n",
    "    \"\"\"\n",
    "    # use vectorization to implement the gradient for linear regression with L1 regularization, do not regularize the bias term\n",
    "\n",
    "    m = X.shape[0]\n",
    "    error = X @ w - y\n",
    "    dj_dw = (X.T @ error)/m\n",
    "    dj_dw[1:] += lambda_reg * np.sign(w[1:])\n",
    "\n",
    "    return dj_dw"
   ]
  },
  {
   "cell_type": "code",
   "execution_count": 312,
   "id": "d8a3b2ae",
   "metadata": {},
   "outputs": [],
   "source": [
    "# Function to perform gradient descent with L1 regularization\n",
    "def gradient_descent_matrix_reg_l1(X, y, X_test, y_test, w_in, alpha, num_iters, lambda_reg):\n",
    "    \"\"\"\n",
    "    Performs batch gradient descent to learn w. Updates w by taking \n",
    "    num_iters gradient steps with learning rate alpha\n",
    "    \n",
    "    Args:\n",
    "      X (ndarray (?,n+1))   : Training Data, m examples with n features\n",
    "      y (ndarray (?,))    : Training target values\n",
    "      X_test (ndarray (?,n+1))   : Test set, m examples with n features\n",
    "      y_test (ndarray (?,))    : target values in test set\n",
    "      w_in (ndarray (n+1,)) : initial model parameters  \n",
    "      alpha (float)       : Learning rate\n",
    "      num_iters (int)     : number of iterations to run gradient descent\n",
    "      lambda_reg (float)  : regularization parameter\n",
    "      \n",
    "    Returns:\n",
    "      w (ndarray (n+1,)) : Updated values of parameters\n",
    "      J_history           : Cost of the model after each iteration\n",
    "      test_J_history      : Cost of the model on test set after each iteration\n",
    "      \"\"\"\n",
    "    \n",
    "    # implement the batch gradient descent algorithm using the compute_gradient and compute_cost functions\n",
    "  \n",
    "        # print cost every 5000 iterations\n",
    "    \n",
    "    J_history = []\n",
    "    test_J_history = []\n",
    "    w = copy.deepcopy(w_in)\n",
    "\n",
    "    for i in range(num_iters):\n",
    "        dj_dw = compute_gradient_matrix_reg_l1(X, y, w, lambda_reg)\n",
    "        w = w - alpha * dj_dw\n",
    "\n",
    "        train_cost = compute_cost_matrix_reg_l1(X, y, w, lambda_reg)\n",
    "        test_cost = compute_cost_matrix_reg_l1(X_test, y_test, w, lambda_reg)\n",
    "        J_history.append(train_cost)\n",
    "        test_J_history.append(test_cost)\n",
    "\n",
    "        if i % 5000 == 0:\n",
    "            print(f\"Iteration {i:5d} | Train Cost: {train_cost:8.4f} | Test Cost: {test_cost:8.4f}\")\n",
    "    \n",
    "    return w, J_history, test_J_history\n",
    "       "
   ]
  },
  {
   "cell_type": "code",
   "execution_count": 313,
   "id": "6ddf6acd",
   "metadata": {},
   "outputs": [
    {
     "name": "stderr",
     "output_type": "stream",
     "text": [
      "/var/folders/gh/cqj50_1n327g30y1fzs44zt40000gn/T/ipykernel_25955/3406148574.py:18: RuntimeWarning: divide by zero encountered in matmul\n",
      "  error = X @ w - y\n",
      "/var/folders/gh/cqj50_1n327g30y1fzs44zt40000gn/T/ipykernel_25955/3406148574.py:18: RuntimeWarning: overflow encountered in matmul\n",
      "  error = X @ w - y\n",
      "/var/folders/gh/cqj50_1n327g30y1fzs44zt40000gn/T/ipykernel_25955/3406148574.py:18: RuntimeWarning: invalid value encountered in matmul\n",
      "  error = X @ w - y\n"
     ]
    },
    {
     "name": "stdout",
     "output_type": "stream",
     "text": [
      "Iteration     0 | Train Cost:   0.1873 | Test Cost:   0.2099\n",
      "Iteration  5000 | Train Cost:   0.0167 | Test Cost:   0.0795\n",
      "Iteration 10000 | Train Cost:   0.0164 | Test Cost:   0.0721\n",
      "Iteration 15000 | Train Cost:   0.0163 | Test Cost:   0.0699\n",
      "Iteration 20000 | Train Cost:   0.0163 | Test Cost:   0.0693\n",
      "Iteration 25000 | Train Cost:   0.0163 | Test Cost:   0.0691\n",
      "Iteration 30000 | Train Cost:   0.0163 | Test Cost:   0.0692\n",
      "Iteration 35000 | Train Cost:   0.0163 | Test Cost:   0.0690\n",
      "Iteration 40000 | Train Cost:   0.0163 | Test Cost:   0.0691\n",
      "Iteration 45000 | Train Cost:   0.0163 | Test Cost:   0.0689\n",
      "Iteration 50000 | Train Cost:   0.0163 | Test Cost:   0.0689\n",
      "Iteration 55000 | Train Cost:   0.0163 | Test Cost:   0.0688\n",
      "w found by gradient descent with L1 regularization: [-9.44316904e-02 -2.42660402e-04 -1.26770170e+00 -1.50046555e-04\n",
      "  2.27850348e-04  8.30161175e-04  7.19878654e-04  4.33345641e-01\n",
      "  5.63682830e-01  6.31180501e-02  7.47759075e-04  5.95705010e-04\n",
      "  4.08788838e-04  5.49690995e-04  4.09960494e-04  6.91874326e-04] \n"
     ]
    }
   ],
   "source": [
    "# initialize the model parameters to 0\n",
    "w = np.zeros(X_train_scaled.shape[1])\n",
    "\n",
    "# run the gradient descent algorithm for 1000 iterations with a learning rate of 0.01 and lambda = 0.1\n",
    "alpha = 0.1\n",
    "num_iters = 60000\n",
    "lambda_l1 = 0.004\n",
    "\n",
    "GD_L1_w, J_history, test_J_history = gradient_descent_matrix_reg_l1(X_train_scaled, y_train, X_test_scaled, y_test, w, alpha, num_iters, lambda_l1)\n",
    "print(f\"w found by gradient descent with L1 regularization: {GD_L1_w} \")"
   ]
  },
  {
   "cell_type": "code",
   "execution_count": 314,
   "id": "d506701d",
   "metadata": {},
   "outputs": [
    {
     "data": {
      "image/png": "[encoded data removed]",
      "text/plain": [
       "<Figure size 640x480 with 1 Axes>"
      ]
     },
     "metadata": {},
     "output_type": "display_data"
    }
   ],
   "source": [
    "# plot the cost over the iterations\n",
    "plt.plot(J_history, label='Training')\n",
    "plt.plot(test_J_history, label='Test')\n",
    "\n",
    "plt.xlabel('Iterations')\n",
    "plt.ylabel('Cost')\n",
    "plt.title('Cost vs Iterations')\n",
    "plt.legend()\n",
    "plt.show()"
   ]
  },
  {
   "cell_type": "code",
   "execution_count": 315,
   "id": "d45f7d54",
   "metadata": {},
   "outputs": [
    {
     "name": "stderr",
     "output_type": "stream",
     "text": [
      "/var/folders/gh/cqj50_1n327g30y1fzs44zt40000gn/T/ipykernel_25955/33216434.py:7: RuntimeWarning: divide by zero encountered in matmul\n",
      "  axs[1].plot(X_test[:, 0:1], X_test_scaled @ GD_L1_w, 'g')\n",
      "/var/folders/gh/cqj50_1n327g30y1fzs44zt40000gn/T/ipykernel_25955/33216434.py:7: RuntimeWarning: overflow encountered in matmul\n",
      "  axs[1].plot(X_test[:, 0:1], X_test_scaled @ GD_L1_w, 'g')\n",
      "/var/folders/gh/cqj50_1n327g30y1fzs44zt40000gn/T/ipykernel_25955/33216434.py:7: RuntimeWarning: invalid value encountered in matmul\n",
      "  axs[1].plot(X_test[:, 0:1], X_test_scaled @ GD_L1_w, 'g')\n"
     ]
    },
    {
     "data": {
      "image/png": "[encoded data removed]",
      "text/plain": [
       "<Figure size 1000x500 with 2 Axes>"
      ]
     },
     "metadata": {},
     "output_type": "display_data"
    }
   ],
   "source": [
    "# putting the above figures side by side for comparision, using subplots\n",
    "fig, axs = plt.subplots(1, 2, figsize=(10,5))\n",
    "fig.suptitle('Train and Test Data')\n",
    "axs[0].plot(X_train[:, 0:1], X_train_scaled @ GD_L1_w, 'r')\n",
    "axs[0].plot(X_train[:, 0:1], y_train, '.')\n",
    "axs[0].set_title('Train Data')\n",
    "axs[1].plot(X_test[:, 0:1], X_test_scaled @ GD_L1_w, 'g')\n",
    "axs[1].plot(X_test[:, 0:1], y_test, '.')\n",
    "axs[1].set_title('Test Data')\n",
    "plt.show()"
   ]
  },
  {
   "cell_type": "markdown",
   "id": "ee37f372",
   "metadata": {},
   "source": [
    "### Task4: output the final RMSE for the training and test set below for performance comparision at the end"
   ]
  },
  {
   "cell_type": "code",
   "execution_count": 316,
   "id": "974a3e6d",
   "metadata": {},
   "outputs": [
    {
     "name": "stdout",
     "output_type": "stream",
     "text": [
      "Training RMSE: 0.1180\n",
      "Test RMSE: 0.3444\n"
     ]
    },
    {
     "name": "stderr",
     "output_type": "stream",
     "text": [
      "/var/folders/gh/cqj50_1n327g30y1fzs44zt40000gn/T/ipykernel_25955/3638367758.py:4: RuntimeWarning: divide by zero encountered in matmul\n",
      "  test_RMSE_l1 = np.sqrt(np.mean((X_test_scaled @ GD_L1_w - y_test) ** 2))\n",
      "/var/folders/gh/cqj50_1n327g30y1fzs44zt40000gn/T/ipykernel_25955/3638367758.py:4: RuntimeWarning: overflow encountered in matmul\n",
      "  test_RMSE_l1 = np.sqrt(np.mean((X_test_scaled @ GD_L1_w - y_test) ** 2))\n",
      "/var/folders/gh/cqj50_1n327g30y1fzs44zt40000gn/T/ipykernel_25955/3638367758.py:4: RuntimeWarning: invalid value encountered in matmul\n",
      "  test_RMSE_l1 = np.sqrt(np.mean((X_test_scaled @ GD_L1_w - y_test) ** 2))\n"
     ]
    }
   ],
   "source": [
    "# output the final RMSE for the training and test set\n",
    "\n",
    "train_RMSE_l1 = np.sqrt(np.mean((X_train_scaled @ GD_L1_w - y_train) ** 2))\n",
    "test_RMSE_l1 = np.sqrt(np.mean((X_test_scaled @ GD_L1_w - y_test) ** 2))\n",
    "\n",
    "print(f\"Training RMSE: {train_RMSE_l1:.4f}\")\n",
    "print(f\"Test RMSE: {test_RMSE_l1:.4f}\")"
   ]
  },
  {
   "cell_type": "markdown",
   "id": "f2c2efc3",
   "metadata": {},
   "source": [
    "## Professional Implementation: Scikit-Learn's Optimized Algorithms\n",
    "\n",
    "\n",
    "**Why Compare with Sklearn?**\n",
    "\n",
    "- **Parameters**: Different hyperparameter conventions (alpha vs. lambda)\n",
    "\n",
    "- **Industry Standard**: Production-ready, optimized implementations\n",
    "- **Performance**: Optimized C/Fortran backends for speed\n",
    "\n",
    "- **Advanced Algorithms**: Coordinate descent for Lasso, efficient solvers for Ridge\n",
    "- **Stability**: Professional implementations handle edge cases better\n",
    "\n",
    "- **Performance Benchmark**: Compare your implementations with professional tools\n",
    "- **Convergence**: Sklearn may converge faster due to advanced optimization\n",
    "\n",
    "- **Real-World Relevance**: Understand when to build custom vs. use libraries\n"
   ]
  },
  {
   "cell_type": "markdown",
   "id": "38592310",
   "metadata": {},
   "source": [
    "### Task 5: Professional Ridge Regression with Scikit-Learn\n",
    "\n",
    "**Comparison Focus**: How do sklearn's parameters compare to your custom implementation?\n",
    "\n",
    "**Implementation Requirements:**\n",
    "\n",
    "- Use `Ridge(alpha=0.004, max_iter=10000)` for fair comparison- Extract learned parameters using `.coef_` and `.intercept_`\n",
    "\n",
    "- Fit on scaled training data: `X_train_scaled`, `y_train`- Predict on both training and test sets"
   ]
  },
  {
   "cell_type": "code",
   "execution_count": 317,
   "id": "a125153a",
   "metadata": {},
   "outputs": [
    {
     "name": "stdout",
     "output_type": "stream",
     "text": [
      "Ridge coefficient is: [ 0.          0.68317146 -2.07864713 -1.01132877  0.1916362   0.76887686\n",
      "  0.87940349  0.75488447  0.54324044  0.32025102  0.11897939 -0.04962267\n",
      " -0.18499861 -0.29087521 -0.37226435 -0.4340992 ]\n",
      "Ridge intercept is: -0.09443169035226882\n"
     ]
    },
    {
     "name": "stderr",
     "output_type": "stream",
     "text": [
      "/Users/zhangyujia/Desktop/stat362/.venv/lib/python3.12/site-packages/sklearn/linear_model/_base.py:280: RuntimeWarning: divide by zero encountered in matmul\n",
      "  return X @ coef_ + self.intercept_\n",
      "/Users/zhangyujia/Desktop/stat362/.venv/lib/python3.12/site-packages/sklearn/linear_model/_base.py:280: RuntimeWarning: overflow encountered in matmul\n",
      "  return X @ coef_ + self.intercept_\n",
      "/Users/zhangyujia/Desktop/stat362/.venv/lib/python3.12/site-packages/sklearn/linear_model/_base.py:280: RuntimeWarning: invalid value encountered in matmul\n",
      "  return X @ coef_ + self.intercept_\n"
     ]
    }
   ],
   "source": [
    "# use Ridge regression from sklearn to learn the model parameters\n",
    "# alpha=0.004, max_iter=10000 \n",
    "\n",
    "ridge_model = Ridge(alpha=0.004, max_iter=10000)\n",
    "ridge_model.fit(X_train_scaled, y_train)\n",
    "print(\"Ridge coefficient is:\", ridge_model.coef_)\n",
    "print(\"Ridge intercept is:\", ridge_model.intercept_)\n",
    "\n",
    "X_train_pred = ridge_model.predict(X_train_scaled)\n",
    "X_test_pred = ridge_model.predict(X_test_scaled)"
   ]
  },
  {
   "cell_type": "markdown",
   "id": "0531a17c",
   "metadata": {},
   "source": [
    "### Task6: Output the RMSE for the Ridge regression"
   ]
  },
  {
   "cell_type": "code",
   "execution_count": 318,
   "id": "b4800e0c",
   "metadata": {},
   "outputs": [
    {
     "name": "stdout",
     "output_type": "stream",
     "text": [
      "Training RMSE: 0.0686\n",
      "Test RMSE: 0.2593\n"
     ]
    }
   ],
   "source": [
    "# output the final RMSE for the training and test set\n",
    "\n",
    "train_RMSE_ridge = np.sqrt(np.mean((X_train_pred - y_train) ** 2))\n",
    "test_RMSE_ridge = np.sqrt(np.mean((X_test_pred - y_test) ** 2))\n",
    "\n",
    "print(f\"Training RMSE: {train_RMSE_ridge:.4f}\")\n",
    "print(f\"Test RMSE: {test_RMSE_ridge:.4f}\")"
   ]
  },
  {
   "cell_type": "markdown",
   "id": "7546a2a5",
   "metadata": {},
   "source": [
    "### Task 7: Professional Lasso Regression with Scikit-Learn\n",
    "\n",
    "**Sparsity Investigation**: Which polynomial terms does Lasso eliminate as irrelevant?\n",
    "\n",
    "**Implementation Requirements:**\n",
    "\n",
    "- Use `Lasso(alpha=0.004, max_iter=10000)` for consistency\n",
    "- Compare sparsity pattern with your custom L1 implementation\n",
    "\n",
    "- Apply to standardized data for proper regularization\n",
    "  \n",
    "**Key Analysis**: Count how many coefficients are exactly zero"
   ]
  },
  {
   "cell_type": "code",
   "execution_count": 319,
   "id": "854ecc95",
   "metadata": {},
   "outputs": [
    {
     "name": "stdout",
     "output_type": "stream",
     "text": [
      "Lasso coefficient is: [ 0.         -0.         -1.27800488 -0.          0.          0.\n",
      "  0.          0.57624013  0.49526164  0.          0.          0.\n",
      "  0.          0.          0.          0.        ]\n",
      "Lasso intercept is: -0.09443169035226888\n"
     ]
    },
    {
     "name": "stderr",
     "output_type": "stream",
     "text": [
      "/Users/zhangyujia/Desktop/stat362/.venv/lib/python3.12/site-packages/sklearn/linear_model/_base.py:280: RuntimeWarning: divide by zero encountered in matmul\n",
      "  return X @ coef_ + self.intercept_\n",
      "/Users/zhangyujia/Desktop/stat362/.venv/lib/python3.12/site-packages/sklearn/linear_model/_base.py:280: RuntimeWarning: overflow encountered in matmul\n",
      "  return X @ coef_ + self.intercept_\n",
      "/Users/zhangyujia/Desktop/stat362/.venv/lib/python3.12/site-packages/sklearn/linear_model/_base.py:280: RuntimeWarning: invalid value encountered in matmul\n",
      "  return X @ coef_ + self.intercept_\n"
     ]
    }
   ],
   "source": [
    "# Use lasso regression from sklearn to learn the model parameters\n",
    "# alpha=0.004, max_iter=10000\n",
    "\n",
    "lasso_model = Lasso(alpha=0.004, max_iter=10000)\n",
    "lasso_model.fit(X_train_scaled, y_train)\n",
    "print(\"Lasso coefficient is:\", lasso_model.coef_)\n",
    "print(\"Lasso intercept is:\", lasso_model.intercept_)\n",
    "\n",
    "X_train_pred_lasso = lasso_model.predict(X_train_scaled)\n",
    "X_test_pred_lasso = lasso_model.predict(X_test_scaled)"
   ]
  },
  {
   "cell_type": "markdown",
   "id": "963f3493",
   "metadata": {},
   "source": [
    "The coefficients for 13 features became exactly 0."
   ]
  },
  {
   "cell_type": "markdown",
   "id": "ea76c77d",
   "metadata": {},
   "source": [
    "### Task 8: Lasso Performance Analysis\n",
    "\n",
    "**Evaluation Requirements:**\n",
    "- Calculate and output final RMSE for both training and test sets\n",
    "- **Sparsity Analysis**: Count and report how many coefficients are exactly zero\n",
    "- **Feature Selection**: Identify which polynomial terms were eliminated\n",
    "- **Compare**: How does Lasso sparsity compare to your custom L1 implementation?"
   ]
  },
  {
   "cell_type": "code",
   "execution_count": 320,
   "id": "f117ffcb",
   "metadata": {},
   "outputs": [
    {
     "name": "stdout",
     "output_type": "stream",
     "text": [
      "Training RMSE: 0.1175\n",
      "Test RMSE: 0.3433\n"
     ]
    }
   ],
   "source": [
    "# output the final RMSE for the training and test set\n",
    "\n",
    "train_RMSE_lasso = np.sqrt(np.mean((X_train_pred_lasso - y_train) ** 2))\n",
    "test_RMSE_lasso = np.sqrt(np.mean((X_test_pred_lasso - y_test) ** 2))\n",
    "\n",
    "print(f\"Training RMSE: {train_RMSE_lasso:.4f}\")\n",
    "print(f\"Test RMSE: {test_RMSE_lasso:.4f}\")"
   ]
  },
  {
   "cell_type": "markdown",
   "id": "f6cafaa5",
   "metadata": {},
   "source": [
    "## Comprehensive Analysis: Comparing All Approaches\n",
    "\n",
    "**Comparative Study Objectives:**\n",
    "- **Parameter Analysis**: How do learned weights differ across methods?\n",
    "- **Performance Evaluation**: Which approach generalizes best?\n",
    "- **Implementation Insights**: Custom vs. professional implementations  \n",
    "- **Method Selection**: When to use L1 vs. L2 vs. no regularization\n",
    "\n",
    "**Expected Discoveries:**\n",
    "- Regularized models should show better generalization (lower test RMSE)\n",
    "- L1 methods should produce sparse solutions with zero coefficients\n",
    "- L2 methods should shrink all parameters uniformly\n",
    "- Professional implementations may outperform custom gradient descent"
   ]
  },
  {
   "cell_type": "markdown",
   "id": "c0f80302",
   "metadata": {},
   "source": [
    "### Task 9: Parameter Comparison Matrix\n",
    "\n",
    "**Create a comprehensive DataFrame comparing all learned parameters:**\n",
    "\n",
    "**Models to Include:**\n",
    "\n",
    "- Vanilla GD (baseline overfitted model)\n",
    "- Custom L2 Regularization (Ridge)\n",
    "- Custom L1 Regularization (Lasso) \n",
    "- Sklearn Ridge Regression\n",
    "- Sklearn Lasso Regression\n",
    "\n",
    "**DataFrame Structure:**\n",
    "\n",
    "- **Rows**: Each polynomial feature (x¹, x², ..., x¹⁵) + bias term\n",
    "- **Columns**: Each model's learned parameters\n",
    "- **Analysis**: Identify patterns, sparsity, parameter magnitude differences\n",
    "\n",
    "**Key Questions to Investigate:**\n",
    "\n",
    "1. Which coefficients does L1 drive to zero?\n",
    "2. How do L2 parameters compare in magnitude to unregularized?\n",
    "3. Are sklearn and custom implementations learning similar patterns?\n",
    "\n",
    "- **Rows**: Each polynomial feature (x¹, x², ..., x¹⁵) + bias term"
   ]
  },
  {
   "cell_type": "code",
   "execution_count": 321,
   "id": "6b487a2e",
   "metadata": {},
   "outputs": [
    {
     "data": {
      "text/html": [
       "<div>\n",
       "<style scoped>\n",
       "    .dataframe tbody tr th:only-of-type {\n",
       "        vertical-align: middle;\n",
       "    }\n",
       "\n",
       "    .dataframe tbody tr th {\n",
       "        vertical-align: top;\n",
       "    }\n",
       "\n",
       "    .dataframe thead th {\n",
       "        text-align: right;\n",
       "    }\n",
       "</style>\n",
       "<table border=\"1\" class=\"dataframe\">\n",
       "  <thead>\n",
       "    <tr style=\"text-align: right;\">\n",
       "      <th></th>\n",
       "      <th>bias</th>\n",
       "      <th>x^1</th>\n",
       "      <th>x^2</th>\n",
       "      <th>x^3</th>\n",
       "      <th>x^4</th>\n",
       "      <th>x^5</th>\n",
       "      <th>x^6</th>\n",
       "      <th>x^7</th>\n",
       "      <th>x^8</th>\n",
       "      <th>x^9</th>\n",
       "      <th>x^10</th>\n",
       "      <th>x^11</th>\n",
       "      <th>x^12</th>\n",
       "      <th>x^13</th>\n",
       "      <th>x^14</th>\n",
       "      <th>x^15</th>\n",
       "    </tr>\n",
       "  </thead>\n",
       "  <tbody>\n",
       "    <tr>\n",
       "      <th>Vanilla GD</th>\n",
       "      <td>-0.094432</td>\n",
       "      <td>1.451011</td>\n",
       "      <td>-3.311383</td>\n",
       "      <td>-1.465804</td>\n",
       "      <td>0.499038</td>\n",
       "      <td>1.352924</td>\n",
       "      <td>1.432393</td>\n",
       "      <td>1.154671</td>\n",
       "      <td>0.769085</td>\n",
       "      <td>0.393416</td>\n",
       "      <td>0.072289</td>\n",
       "      <td>-0.184788</td>\n",
       "      <td>-0.383031</td>\n",
       "      <td>-0.532458</td>\n",
       "      <td>-0.643492</td>\n",
       "      <td>-0.725256</td>\n",
       "    </tr>\n",
       "    <tr>\n",
       "      <th>Custom L2 (Ridge)</th>\n",
       "      <td>-0.094432</td>\n",
       "      <td>0.682170</td>\n",
       "      <td>-2.075472</td>\n",
       "      <td>-1.012515</td>\n",
       "      <td>0.189048</td>\n",
       "      <td>0.767435</td>\n",
       "      <td>0.879652</td>\n",
       "      <td>0.756340</td>\n",
       "      <td>0.545186</td>\n",
       "      <td>0.322088</td>\n",
       "      <td>0.120320</td>\n",
       "      <td>-0.048974</td>\n",
       "      <td>-0.185100</td>\n",
       "      <td>-0.291700</td>\n",
       "      <td>-0.373740</td>\n",
       "      <td>-0.436133</td>\n",
       "    </tr>\n",
       "    <tr>\n",
       "      <th>Custom L1 (Lasso)</th>\n",
       "      <td>-0.094432</td>\n",
       "      <td>-0.000243</td>\n",
       "      <td>-1.267702</td>\n",
       "      <td>-0.000150</td>\n",
       "      <td>0.000228</td>\n",
       "      <td>0.000830</td>\n",
       "      <td>0.000720</td>\n",
       "      <td>0.433346</td>\n",
       "      <td>0.563683</td>\n",
       "      <td>0.063118</td>\n",
       "      <td>0.000748</td>\n",
       "      <td>0.000596</td>\n",
       "      <td>0.000409</td>\n",
       "      <td>0.000550</td>\n",
       "      <td>0.000410</td>\n",
       "      <td>0.000692</td>\n",
       "    </tr>\n",
       "    <tr>\n",
       "      <th>Sklearn Ridge</th>\n",
       "      <td>0.000000</td>\n",
       "      <td>0.683171</td>\n",
       "      <td>-2.078647</td>\n",
       "      <td>-1.011329</td>\n",
       "      <td>0.191636</td>\n",
       "      <td>0.768877</td>\n",
       "      <td>0.879403</td>\n",
       "      <td>0.754884</td>\n",
       "      <td>0.543240</td>\n",
       "      <td>0.320251</td>\n",
       "      <td>0.118979</td>\n",
       "      <td>-0.049623</td>\n",
       "      <td>-0.184999</td>\n",
       "      <td>-0.290875</td>\n",
       "      <td>-0.372264</td>\n",
       "      <td>-0.434099</td>\n",
       "    </tr>\n",
       "    <tr>\n",
       "      <th>Sklearn Lasso</th>\n",
       "      <td>0.000000</td>\n",
       "      <td>-0.000000</td>\n",
       "      <td>-1.278005</td>\n",
       "      <td>-0.000000</td>\n",
       "      <td>0.000000</td>\n",
       "      <td>0.000000</td>\n",
       "      <td>0.000000</td>\n",
       "      <td>0.576240</td>\n",
       "      <td>0.495262</td>\n",
       "      <td>0.000000</td>\n",
       "      <td>0.000000</td>\n",
       "      <td>0.000000</td>\n",
       "      <td>0.000000</td>\n",
       "      <td>0.000000</td>\n",
       "      <td>0.000000</td>\n",
       "      <td>0.000000</td>\n",
       "    </tr>\n",
       "  </tbody>\n",
       "</table>\n",
       "</div>"
      ],
      "text/plain": [
       "                       bias       x^1       x^2       x^3       x^4       x^5  \\\n",
       "Vanilla GD        -0.094432  1.451011 -3.311383 -1.465804  0.499038  1.352924   \n",
       "Custom L2 (Ridge) -0.094432  0.682170 -2.075472 -1.012515  0.189048  0.767435   \n",
       "Custom L1 (Lasso) -0.094432 -0.000243 -1.267702 -0.000150  0.000228  0.000830   \n",
       "Sklearn Ridge      0.000000  0.683171 -2.078647 -1.011329  0.191636  0.768877   \n",
       "Sklearn Lasso      0.000000 -0.000000 -1.278005 -0.000000  0.000000  0.000000   \n",
       "\n",
       "                        x^6       x^7       x^8       x^9      x^10      x^11  \\\n",
       "Vanilla GD         1.432393  1.154671  0.769085  0.393416  0.072289 -0.184788   \n",
       "Custom L2 (Ridge)  0.879652  0.756340  0.545186  0.322088  0.120320 -0.048974   \n",
       "Custom L1 (Lasso)  0.000720  0.433346  0.563683  0.063118  0.000748  0.000596   \n",
       "Sklearn Ridge      0.879403  0.754884  0.543240  0.320251  0.118979 -0.049623   \n",
       "Sklearn Lasso      0.000000  0.576240  0.495262  0.000000  0.000000  0.000000   \n",
       "\n",
       "                       x^12      x^13      x^14      x^15  \n",
       "Vanilla GD        -0.383031 -0.532458 -0.643492 -0.725256  \n",
       "Custom L2 (Ridge) -0.185100 -0.291700 -0.373740 -0.436133  \n",
       "Custom L1 (Lasso)  0.000409  0.000550  0.000410  0.000692  \n",
       "Sklearn Ridge     -0.184999 -0.290875 -0.372264 -0.434099  \n",
       "Sklearn Lasso      0.000000  0.000000  0.000000  0.000000  "
      ]
     },
     "metadata": {},
     "output_type": "display_data"
    }
   ],
   "source": [
    "#putting all the parameters from the above models in a dataframe, adding the bias term to the model parameters\n",
    "\n",
    "# Create the feature names\n",
    "feature_names = ['bias'] + [f'x^{i}' for i in range(1, 16)]\n",
    "\n",
    "# Build the parameter comparison matrix\n",
    "param_comparison = pd.DataFrame({\n",
    "    'Vanilla GD': w_vanilla,\n",
    "    'Custom L2 (Ridge)': GD_L2_w,\n",
    "    'Custom L1 (Lasso)': GD_L1_w,\n",
    "    'Sklearn Ridge': ridge_model.coef_,\n",
    "    'Sklearn Lasso': lasso_model.coef_\n",
    "}, index=feature_names)\n",
    "\n",
    "# Exchange columns and index\n",
    "param_comparison_T = param_comparison.T\n",
    "\n",
    "# Display the transposed matrix\n",
    "display(param_comparison_T)"
   ]
  },
  {
   "cell_type": "markdown",
   "id": "e7dae43e",
   "metadata": {},
   "source": [
    "Lasso drives the coefficients of x^1, x^3, x^4, x^5, x^6, x^9, x^10, x^11, x^12, x^13, x^14, x^15 to 0. L2 parameters are all smaller than the parameters of the unregularized model, since Ridge penalizes the coefficients relatively evenly. Besides, sklearn and custom implementations present similar patterns in terms of the parameter coefficients, but Sklearn Lasso penalizes more paramter coefficients to 0 compared to the custom implementation."
   ]
  },
  {
   "cell_type": "markdown",
   "id": "453b0b06",
   "metadata": {},
   "source": [
    "### Task 10: Performance Leaderboard Analysis\n",
    "\n",
    "**Expected Insights**: Regularized models should show better generalization!\n",
    "\n",
    "**Create a comprehensive performance comparison:**\n",
    "\n",
    "* How do custom implementations compare to sklearn?\n",
    "* When would you choose L1 vs L2 regularization?\n",
    "\n",
    "**Metrics to Compare:**\n",
    "\n",
    "- Training RMSE (overfitting indicator)\n",
    "- Test RMSE (generalization measure) \n",
    "- Generalization Gap (Test RMSE - Train RMSE)\n",
    "- Number of Zero Coefficients (sparsity measure)\n",
    "\n",
    "**Analysis Questions:**\n",
    "\n",
    "1. Which method has the best test performance?\n",
    "2. Which method shows least overfitting (smallest gap)?\n",
    "3. How do custom implementations compare to sklearn?\n",
    "4. When would you choose L1 vs L2 regularization?\n",
    "\n",
    "**Expected Insights**: Regularized models should show better generalization!"
   ]
  },
  {
   "cell_type": "code",
   "execution_count": 323,
   "id": "9d0720aa",
   "metadata": {},
   "outputs": [
    {
     "data": {
      "text/html": [
       "<div>\n",
       "<style scoped>\n",
       "    .dataframe tbody tr th:only-of-type {\n",
       "        vertical-align: middle;\n",
       "    }\n",
       "\n",
       "    .dataframe tbody tr th {\n",
       "        vertical-align: top;\n",
       "    }\n",
       "\n",
       "    .dataframe thead th {\n",
       "        text-align: right;\n",
       "    }\n",
       "</style>\n",
       "<table border=\"1\" class=\"dataframe\">\n",
       "  <thead>\n",
       "    <tr style=\"text-align: right;\">\n",
       "      <th></th>\n",
       "      <th>Train RMSE</th>\n",
       "      <th>Test RMSE</th>\n",
       "      <th>gap</th>\n",
       "    </tr>\n",
       "  </thead>\n",
       "  <tbody>\n",
       "    <tr>\n",
       "      <th>Vanilla GD</th>\n",
       "      <td>0.038898</td>\n",
       "      <td>0.316619</td>\n",
       "      <td>0.277721</td>\n",
       "    </tr>\n",
       "    <tr>\n",
       "      <th>Custom L2 (Ridge)</th>\n",
       "      <td>0.068622</td>\n",
       "      <td>0.259445</td>\n",
       "      <td>0.190823</td>\n",
       "    </tr>\n",
       "    <tr>\n",
       "      <th>Custom L1 (Lasso)</th>\n",
       "      <td>0.118042</td>\n",
       "      <td>0.344424</td>\n",
       "      <td>0.226382</td>\n",
       "    </tr>\n",
       "    <tr>\n",
       "      <th>Sklearn Ridge</th>\n",
       "      <td>0.068598</td>\n",
       "      <td>0.259303</td>\n",
       "      <td>0.190705</td>\n",
       "    </tr>\n",
       "    <tr>\n",
       "      <th>Sklearn Lasso</th>\n",
       "      <td>0.117474</td>\n",
       "      <td>0.343283</td>\n",
       "      <td>0.225809</td>\n",
       "    </tr>\n",
       "  </tbody>\n",
       "</table>\n",
       "</div>"
      ],
      "text/plain": [
       "                   Train RMSE  Test RMSE       gap\n",
       "Vanilla GD           0.038898   0.316619  0.277721\n",
       "Custom L2 (Ridge)    0.068622   0.259445  0.190823\n",
       "Custom L1 (Lasso)    0.118042   0.344424  0.226382\n",
       "Sklearn Ridge        0.068598   0.259303  0.190705\n",
       "Sklearn Lasso        0.117474   0.343283  0.225809"
      ]
     },
     "metadata": {},
     "output_type": "display_data"
    }
   ],
   "source": [
    "# putting all the RMSE values in a dataframe\n",
    "\n",
    "rmse_comparison = pd.DataFrame({\n",
    "    \"Train RMSE\": [\n",
    "        train_RMSE_vanilla,\n",
    "        train_RMSE_l2,\n",
    "        train_RMSE_l1,\n",
    "        train_RMSE_ridge,\n",
    "        train_RMSE_lasso\n",
    "    ],\n",
    "    \"Test RMSE\": [\n",
    "        test_RMSE_vanilla,\n",
    "        test_RMSE_l2,\n",
    "        test_RMSE_l1,\n",
    "        test_RMSE_ridge,\n",
    "        test_RMSE_lasso\n",
    "    ]\n",
    "}, index=[\n",
    "    \"Vanilla GD\",\n",
    "    \"Custom L2 (Ridge)\",\n",
    "    \"Custom L1 (Lasso)\",\n",
    "    \"Sklearn Ridge\",\n",
    "    \"Sklearn Lasso\"\n",
    "])\n",
    "\n",
    "rmse_comparison['gap'] = np.abs(rmse_comparison['Train RMSE'] - rmse_comparison['Test RMSE'])\n",
    "\n",
    "# Display the result\n",
    "display(rmse_comparison)"
   ]
  },
  {
   "cell_type": "markdown",
   "id": "7ab98404",
   "metadata": {},
   "source": [
    "Sklearn Ridge shows the best test RMSE performance and also shows the least overfitting issue. The performance of custom implementation is really similar to Sklearn."
   ]
  },
  {
   "cell_type": "markdown",
   "id": "4df9f5a4",
   "metadata": {},
   "source": [
    "## Congratulations! You've Mastered Regularized Machine Learning!\n",
    "\n",
    "\n",
    "### Key Achievements Unlocked:\n",
    "\n",
    "#### Technical Mastery\n",
    "\n",
    "* **Regularized Cost Functions**: Successfully extended MSE with L1/L2 penalty terms\n",
    "* **Advanced Gradient Descent**: Implemented vectorized algorithms with regularization\n",
    "* **Professional Tools**: Leveraged scikit-learn's optimized Lasso and Ridge implementations\n",
    "* **Comparative Analysis**: Systematically evaluated custom vs. professional approaches\n",
    "\n",
    "#### Conceptual Understanding \n",
    "\n",
    "* **Overfitting Recognition**: Identified and diagnosed overfitting through learning curves\n",
    "* **Bias-Variance Tradeoff**: Observed how regularization balances model complexity\n",
    "* **L1 vs L2 Intuition**: Understood sparsity (L1) vs. shrinkage (L2) effects\n",
    "* **Hyperparameter Impact**: Explored how λ controls regularization strength\n",
    "\n",
    "#### Professional Insights\n",
    "\n",
    "* **When to Regularize**: Small datasets + high dimensions = regularization essential\n",
    "* **Method Selection**: L1 for feature selection, L2 for smooth parameter shrinkage\n",
    "* **Implementation Choices**: Custom for learning, sklearn for production\n",
    "* **Performance Evaluation**: Always compare training vs. test performance\n",
    "\n",
    "### Real-World Applications\n",
    "\n",
    "You're now equipped to tackle overfitting in:\n",
    "\n",
    "- **Medical Diagnosis**: High-dimensional genomic data\n",
    "- **Financial Modeling**: Feature-rich economic indicators \n",
    "- **Image Recognition**: Pixel-level feature engineering\n",
    "- **Natural Language Processing**: Large vocabulary models\n",
    "\n",
    "**Next Steps**: Apply these techniques to your own datasets and explore advanced regularization methods like Elastic Net!"
   ]
  },
  {
   "cell_type": "markdown",
   "id": "6be7b4d0",
   "metadata": {},
   "source": [
    "## Reference\n",
    "\n",
    "Deeplearning.AI"
   ]
  }
 ],
 "metadata": {
  "kernelspec": {
   "display_name": "stat362-py3.12 (3.12.7)",
   "language": "python",
   "name": "python3"
  },
  "language_info": {
   "codemirror_mode": {
    "name": "ipython",
    "version": 3
   },
   "file_extension": ".py",
   "mimetype": "text/x-python",
   "name": "python",
   "nbconvert_exporter": "python",
   "pygments_lexer": "ipython3",
   "version": "3.12.7"
  }
 },
 "nbformat": 4,
 "nbformat_minor": 5
}
